{
 "cells": [
  {
   "cell_type": "code",
   "execution_count": 1,
   "id": "e81725cf",
   "metadata": {
    "execution": {
     "iopub.execute_input": "2023-08-12T01:58:29.434599Z",
     "iopub.status.busy": "2023-08-12T01:58:29.434043Z",
     "iopub.status.idle": "2023-08-12T01:58:30.950724Z",
     "shell.execute_reply": "2023-08-12T01:58:30.949414Z"
    },
    "papermill": {
     "duration": 1.564514,
     "end_time": "2023-08-12T01:58:30.953641",
     "exception": false,
     "start_time": "2023-08-12T01:58:29.389127",
     "status": "completed"
    },
    "tags": []
   },
   "outputs": [],
   "source": [
    "import numpy as np\n",
    "import pandas as pd\n",
    "import matplotlib.pyplot as plt\n",
    "import seaborn as sns"
   ]
  },
  {
   "cell_type": "code",
   "execution_count": 2,
   "id": "7a6b875b",
   "metadata": {
    "execution": {
     "iopub.execute_input": "2023-08-12T01:58:31.042217Z",
     "iopub.status.busy": "2023-08-12T01:58:31.041793Z",
     "iopub.status.idle": "2023-08-12T01:58:31.084497Z",
     "shell.execute_reply": "2023-08-12T01:58:31.083105Z"
    },
    "papermill": {
     "duration": 0.089965,
     "end_time": "2023-08-12T01:58:31.087324",
     "exception": false,
     "start_time": "2023-08-12T01:58:30.997359",
     "status": "completed"
    },
    "tags": []
   },
   "outputs": [],
   "source": [
    "df = pd.read_csv(\"mobile_prices.csv\")"
   ]
  },
  {
   "cell_type": "markdown",
   "id": "c941aabc",
   "metadata": {
    "papermill": {
     "duration": 0.041735,
     "end_time": "2023-08-12T01:58:31.170745",
     "exception": false,
     "start_time": "2023-08-12T01:58:31.129010",
     "status": "completed"
    },
    "tags": []
   },
   "source": [
    "## Data Exploring"
   ]
  },
  {
   "cell_type": "code",
   "execution_count": 3,
   "id": "5ef8ecb2",
   "metadata": {
    "execution": {
     "iopub.execute_input": "2023-08-12T01:58:31.258604Z",
     "iopub.status.busy": "2023-08-12T01:58:31.258168Z",
     "iopub.status.idle": "2023-08-12T01:58:31.297035Z",
     "shell.execute_reply": "2023-08-12T01:58:31.295835Z"
    },
    "papermill": {
     "duration": 0.084905,
     "end_time": "2023-08-12T01:58:31.300008",
     "exception": false,
     "start_time": "2023-08-12T01:58:31.215103",
     "status": "completed"
    },
    "tags": []
   },
   "outputs": [
    {
     "data": {
      "text/html": [
       "<div>\n",
       "<style scoped>\n",
       "    .dataframe tbody tr th:only-of-type {\n",
       "        vertical-align: middle;\n",
       "    }\n",
       "\n",
       "    .dataframe tbody tr th {\n",
       "        vertical-align: top;\n",
       "    }\n",
       "\n",
       "    .dataframe thead th {\n",
       "        text-align: right;\n",
       "    }\n",
       "</style>\n",
       "<table border=\"1\" class=\"dataframe\">\n",
       "  <thead>\n",
       "    <tr style=\"text-align: right;\">\n",
       "      <th></th>\n",
       "      <th>Phone Name</th>\n",
       "      <th>Rating ?/5</th>\n",
       "      <th>Number of Ratings</th>\n",
       "      <th>RAM</th>\n",
       "      <th>ROM/Storage</th>\n",
       "      <th>Back/Rare Camera</th>\n",
       "      <th>Front Camera</th>\n",
       "      <th>Battery</th>\n",
       "      <th>Processor</th>\n",
       "      <th>Price in INR</th>\n",
       "      <th>Date of Scraping</th>\n",
       "    </tr>\n",
       "  </thead>\n",
       "  <tbody>\n",
       "    <tr>\n",
       "      <th>0</th>\n",
       "      <td>POCO C50 (Royal Blue, 32 GB)</td>\n",
       "      <td>4.2</td>\n",
       "      <td>33,561</td>\n",
       "      <td>2 GB RAM</td>\n",
       "      <td>32 GB ROM</td>\n",
       "      <td>8MP Dual Camera</td>\n",
       "      <td>5MP Front Camera</td>\n",
       "      <td>5000 mAh</td>\n",
       "      <td>Mediatek Helio A22 Processor, Upto 2.0 GHz Pro...</td>\n",
       "      <td>₹5,649</td>\n",
       "      <td>2023-06-17</td>\n",
       "    </tr>\n",
       "    <tr>\n",
       "      <th>1</th>\n",
       "      <td>POCO M4 5G (Cool Blue, 64 GB)</td>\n",
       "      <td>4.2</td>\n",
       "      <td>77,128</td>\n",
       "      <td>4 GB RAM</td>\n",
       "      <td>64 GB ROM</td>\n",
       "      <td>50MP + 2MP</td>\n",
       "      <td>8MP Front Camera</td>\n",
       "      <td>5000 mAh</td>\n",
       "      <td>Mediatek Dimensity 700 Processor</td>\n",
       "      <td>₹11,999</td>\n",
       "      <td>2023-06-17</td>\n",
       "    </tr>\n",
       "    <tr>\n",
       "      <th>2</th>\n",
       "      <td>POCO C51 (Royal Blue, 64 GB)</td>\n",
       "      <td>4.3</td>\n",
       "      <td>15,175</td>\n",
       "      <td>4 GB RAM</td>\n",
       "      <td>64 GB ROM</td>\n",
       "      <td>8MP Dual Rear Camera</td>\n",
       "      <td>5MP Front Camera</td>\n",
       "      <td>5000 mAh</td>\n",
       "      <td>Helio G36 Processor</td>\n",
       "      <td>₹6,999</td>\n",
       "      <td>2023-06-17</td>\n",
       "    </tr>\n",
       "    <tr>\n",
       "      <th>3</th>\n",
       "      <td>POCO C55 (Cool Blue, 64 GB)</td>\n",
       "      <td>4.2</td>\n",
       "      <td>22,621</td>\n",
       "      <td>4 GB RAM</td>\n",
       "      <td>64 GB ROM</td>\n",
       "      <td>50MP Dual Rear Camera</td>\n",
       "      <td>5MP Front Camera</td>\n",
       "      <td>5000 mAh</td>\n",
       "      <td>Mediatek Helio G85 Processor</td>\n",
       "      <td>₹7,749</td>\n",
       "      <td>2023-06-17</td>\n",
       "    </tr>\n",
       "    <tr>\n",
       "      <th>4</th>\n",
       "      <td>POCO C51 (Power Black, 64 GB)</td>\n",
       "      <td>4.3</td>\n",
       "      <td>15,175</td>\n",
       "      <td>4 GB RAM</td>\n",
       "      <td>64 GB ROM</td>\n",
       "      <td>8MP Dual Rear Camera</td>\n",
       "      <td>5MP Front Camera</td>\n",
       "      <td>5000 mAh</td>\n",
       "      <td>Helio G36 Processor</td>\n",
       "      <td>₹6,999</td>\n",
       "      <td>2023-06-17</td>\n",
       "    </tr>\n",
       "    <tr>\n",
       "      <th>...</th>\n",
       "      <td>...</td>\n",
       "      <td>...</td>\n",
       "      <td>...</td>\n",
       "      <td>...</td>\n",
       "      <td>...</td>\n",
       "      <td>...</td>\n",
       "      <td>...</td>\n",
       "      <td>...</td>\n",
       "      <td>...</td>\n",
       "      <td>...</td>\n",
       "      <td>...</td>\n",
       "    </tr>\n",
       "    <tr>\n",
       "      <th>1831</th>\n",
       "      <td>Infinix Note 7 (Forest Green, 64 GB)</td>\n",
       "      <td>4.3</td>\n",
       "      <td>25,582</td>\n",
       "      <td>4 GB RAM</td>\n",
       "      <td>64 GB ROM</td>\n",
       "      <td>48MP + 2MP + 2MP + AI Lens Camera</td>\n",
       "      <td>16MP Front Camera</td>\n",
       "      <td>5000 mAh</td>\n",
       "      <td>MediaTek Helio G70 Processor</td>\n",
       "      <td>₹14,999</td>\n",
       "      <td>2023-06-17</td>\n",
       "    </tr>\n",
       "    <tr>\n",
       "      <th>1832</th>\n",
       "      <td>Infinix Note 7 (Bolivia Blue, 64 GB)</td>\n",
       "      <td>4.3</td>\n",
       "      <td>25,582</td>\n",
       "      <td>4 GB RAM</td>\n",
       "      <td>64 GB ROM</td>\n",
       "      <td>48MP + 2MP + 2MP + AI Lens Camera</td>\n",
       "      <td>16MP Front Camera</td>\n",
       "      <td>5000 mAh</td>\n",
       "      <td>MediaTek Helio G70 Processor</td>\n",
       "      <td>₹14,999</td>\n",
       "      <td>2023-06-17</td>\n",
       "    </tr>\n",
       "    <tr>\n",
       "      <th>1833</th>\n",
       "      <td>Infinix Note 7 (Aether Black, 64 GB)</td>\n",
       "      <td>4.3</td>\n",
       "      <td>25,582</td>\n",
       "      <td>4 GB RAM</td>\n",
       "      <td>64 GB ROM</td>\n",
       "      <td>48MP + 2MP + 2MP + AI Lens Camera</td>\n",
       "      <td>16MP Front Camera</td>\n",
       "      <td>5000 mAh</td>\n",
       "      <td>MediaTek Helio G70 Processor</td>\n",
       "      <td>₹14,999</td>\n",
       "      <td>2023-06-17</td>\n",
       "    </tr>\n",
       "    <tr>\n",
       "      <th>1834</th>\n",
       "      <td>Infinix Zero 8i (Silver Diamond, 128 GB)</td>\n",
       "      <td>4.2</td>\n",
       "      <td>7,117</td>\n",
       "      <td>8 GB RAM</td>\n",
       "      <td>128 GB ROM</td>\n",
       "      <td>48MP + 8MP + 2MP + AI Lens Camera</td>\n",
       "      <td>16MP + 8MP Dual Front Camera</td>\n",
       "      <td>4500 mAh</td>\n",
       "      <td>MediaTek Helio G90T Processor</td>\n",
       "      <td>₹18,999</td>\n",
       "      <td>2023-06-17</td>\n",
       "    </tr>\n",
       "    <tr>\n",
       "      <th>1835</th>\n",
       "      <td>Infinix S5 (Quetzal Cyan, 64 GB)</td>\n",
       "      <td>4.3</td>\n",
       "      <td>15,701</td>\n",
       "      <td>4 GB RAM</td>\n",
       "      <td>64 GB ROM</td>\n",
       "      <td>16MP + 5MP + 2MP + Low Light Sensor</td>\n",
       "      <td>32MP Front Camera</td>\n",
       "      <td>4000 mAh</td>\n",
       "      <td>Helio P22 (MTK6762) Processor</td>\n",
       "      <td>₹10,999</td>\n",
       "      <td>2023-06-17</td>\n",
       "    </tr>\n",
       "  </tbody>\n",
       "</table>\n",
       "<p>1836 rows × 11 columns</p>\n",
       "</div>"
      ],
      "text/plain": [
       "                                    Phone Name  Rating ?/5 Number of Ratings  \\\n",
       "0                 POCO C50 (Royal Blue, 32 GB)         4.2            33,561   \n",
       "1                POCO M4 5G (Cool Blue, 64 GB)         4.2            77,128   \n",
       "2                 POCO C51 (Royal Blue, 64 GB)         4.3            15,175   \n",
       "3                  POCO C55 (Cool Blue, 64 GB)         4.2            22,621   \n",
       "4                POCO C51 (Power Black, 64 GB)         4.3            15,175   \n",
       "...                                        ...         ...               ...   \n",
       "1831      Infinix Note 7 (Forest Green, 64 GB)         4.3            25,582   \n",
       "1832      Infinix Note 7 (Bolivia Blue, 64 GB)         4.3            25,582   \n",
       "1833      Infinix Note 7 (Aether Black, 64 GB)         4.3            25,582   \n",
       "1834  Infinix Zero 8i (Silver Diamond, 128 GB)         4.2             7,117   \n",
       "1835          Infinix S5 (Quetzal Cyan, 64 GB)         4.3            15,701   \n",
       "\n",
       "           RAM ROM/Storage                     Back/Rare Camera  \\\n",
       "0     2 GB RAM   32 GB ROM                      8MP Dual Camera   \n",
       "1     4 GB RAM   64 GB ROM                           50MP + 2MP   \n",
       "2     4 GB RAM   64 GB ROM                 8MP Dual Rear Camera   \n",
       "3     4 GB RAM   64 GB ROM                50MP Dual Rear Camera   \n",
       "4     4 GB RAM   64 GB ROM                 8MP Dual Rear Camera   \n",
       "...        ...         ...                                  ...   \n",
       "1831  4 GB RAM   64 GB ROM    48MP + 2MP + 2MP + AI Lens Camera   \n",
       "1832  4 GB RAM   64 GB ROM    48MP + 2MP + 2MP + AI Lens Camera   \n",
       "1833  4 GB RAM   64 GB ROM    48MP + 2MP + 2MP + AI Lens Camera   \n",
       "1834  8 GB RAM  128 GB ROM    48MP + 8MP + 2MP + AI Lens Camera   \n",
       "1835  4 GB RAM   64 GB ROM  16MP + 5MP + 2MP + Low Light Sensor   \n",
       "\n",
       "                      Front Camera   Battery  \\\n",
       "0                 5MP Front Camera  5000 mAh   \n",
       "1                 8MP Front Camera  5000 mAh   \n",
       "2                 5MP Front Camera  5000 mAh   \n",
       "3                 5MP Front Camera  5000 mAh   \n",
       "4                 5MP Front Camera  5000 mAh   \n",
       "...                            ...       ...   \n",
       "1831             16MP Front Camera  5000 mAh   \n",
       "1832             16MP Front Camera  5000 mAh   \n",
       "1833             16MP Front Camera  5000 mAh   \n",
       "1834  16MP + 8MP Dual Front Camera  4500 mAh   \n",
       "1835             32MP Front Camera  4000 mAh   \n",
       "\n",
       "                                              Processor Price in INR  \\\n",
       "0     Mediatek Helio A22 Processor, Upto 2.0 GHz Pro...       ₹5,649   \n",
       "1                      Mediatek Dimensity 700 Processor      ₹11,999   \n",
       "2                                   Helio G36 Processor       ₹6,999   \n",
       "3                          Mediatek Helio G85 Processor       ₹7,749   \n",
       "4                                   Helio G36 Processor       ₹6,999   \n",
       "...                                                 ...          ...   \n",
       "1831                       MediaTek Helio G70 Processor      ₹14,999   \n",
       "1832                       MediaTek Helio G70 Processor      ₹14,999   \n",
       "1833                       MediaTek Helio G70 Processor      ₹14,999   \n",
       "1834                      MediaTek Helio G90T Processor      ₹18,999   \n",
       "1835                      Helio P22 (MTK6762) Processor      ₹10,999   \n",
       "\n",
       "     Date of Scraping  \n",
       "0          2023-06-17  \n",
       "1          2023-06-17  \n",
       "2          2023-06-17  \n",
       "3          2023-06-17  \n",
       "4          2023-06-17  \n",
       "...               ...  \n",
       "1831       2023-06-17  \n",
       "1832       2023-06-17  \n",
       "1833       2023-06-17  \n",
       "1834       2023-06-17  \n",
       "1835       2023-06-17  \n",
       "\n",
       "[1836 rows x 11 columns]"
      ]
     },
     "execution_count": 3,
     "metadata": {},
     "output_type": "execute_result"
    }
   ],
   "source": [
    "df"
   ]
  },
  {
   "cell_type": "code",
   "execution_count": 4,
   "id": "4bb6c528",
   "metadata": {
    "execution": {
     "iopub.execute_input": "2023-08-12T01:58:31.387551Z",
     "iopub.status.busy": "2023-08-12T01:58:31.387105Z",
     "iopub.status.idle": "2023-08-12T01:58:31.417388Z",
     "shell.execute_reply": "2023-08-12T01:58:31.415767Z"
    },
    "papermill": {
     "duration": 0.077259,
     "end_time": "2023-08-12T01:58:31.420221",
     "exception": false,
     "start_time": "2023-08-12T01:58:31.342962",
     "status": "completed"
    },
    "tags": []
   },
   "outputs": [
    {
     "name": "stdout",
     "output_type": "stream",
     "text": [
      "<class 'pandas.core.frame.DataFrame'>\n",
      "RangeIndex: 1836 entries, 0 to 1835\n",
      "Data columns (total 11 columns):\n",
      " #   Column             Non-Null Count  Dtype  \n",
      "---  ------             --------------  -----  \n",
      " 0   Phone Name         1836 non-null   object \n",
      " 1   Rating ?/5         1836 non-null   float64\n",
      " 2   Number of Ratings  1836 non-null   object \n",
      " 3   RAM                1836 non-null   object \n",
      " 4   ROM/Storage        1662 non-null   object \n",
      " 5   Back/Rare Camera   1827 non-null   object \n",
      " 6   Front Camera       1435 non-null   object \n",
      " 7   Battery            1826 non-null   object \n",
      " 8   Processor          1781 non-null   object \n",
      " 9   Price in INR       1836 non-null   object \n",
      " 10  Date of Scraping   1836 non-null   object \n",
      "dtypes: float64(1), object(10)\n",
      "memory usage: 157.9+ KB\n"
     ]
    }
   ],
   "source": [
    "df.info()"
   ]
  },
  {
   "cell_type": "markdown",
   "id": "a9a9697d",
   "metadata": {
    "papermill": {
     "duration": 0.043901,
     "end_time": "2023-08-12T01:58:31.506405",
     "exception": false,
     "start_time": "2023-08-12T01:58:31.462504",
     "status": "completed"
    },
    "tags": []
   },
   "source": [
    "Checking null values"
   ]
  },
  {
   "cell_type": "code",
   "execution_count": 5,
   "id": "d66c5d9f",
   "metadata": {
    "execution": {
     "iopub.execute_input": "2023-08-12T01:58:31.593607Z",
     "iopub.status.busy": "2023-08-12T01:58:31.593169Z",
     "iopub.status.idle": "2023-08-12T01:58:31.609243Z",
     "shell.execute_reply": "2023-08-12T01:58:31.608090Z"
    },
    "papermill": {
     "duration": 0.062703,
     "end_time": "2023-08-12T01:58:31.611763",
     "exception": false,
     "start_time": "2023-08-12T01:58:31.549060",
     "status": "completed"
    },
    "tags": []
   },
   "outputs": [
    {
     "data": {
      "text/plain": [
       "Phone Name             0\n",
       "Rating ?/5             0\n",
       "Number of Ratings      0\n",
       "RAM                    0\n",
       "ROM/Storage          174\n",
       "Back/Rare Camera       9\n",
       "Front Camera         401\n",
       "Battery               10\n",
       "Processor             55\n",
       "Price in INR           0\n",
       "Date of Scraping       0\n",
       "dtype: int64"
      ]
     },
     "execution_count": 5,
     "metadata": {},
     "output_type": "execute_result"
    }
   ],
   "source": [
    "df.isnull().sum()"
   ]
  },
  {
   "cell_type": "code",
   "execution_count": 6,
   "id": "56b15ec1",
   "metadata": {
    "execution": {
     "iopub.execute_input": "2023-08-12T01:58:31.700780Z",
     "iopub.status.busy": "2023-08-12T01:58:31.700016Z",
     "iopub.status.idle": "2023-08-12T01:58:31.708611Z",
     "shell.execute_reply": "2023-08-12T01:58:31.707799Z"
    },
    "papermill": {
     "duration": 0.055869,
     "end_time": "2023-08-12T01:58:31.711042",
     "exception": false,
     "start_time": "2023-08-12T01:58:31.655173",
     "status": "completed"
    },
    "tags": []
   },
   "outputs": [
    {
     "data": {
      "text/plain": [
       "Date of Scraping\n",
       "2023-06-17    1836\n",
       "Name: count, dtype: int64"
      ]
     },
     "execution_count": 6,
     "metadata": {},
     "output_type": "execute_result"
    }
   ],
   "source": [
    "df[\"Date of Scraping\"].value_counts()"
   ]
  },
  {
   "cell_type": "code",
   "execution_count": 7,
   "id": "d857db52",
   "metadata": {
    "execution": {
     "iopub.execute_input": "2023-08-12T01:58:31.799133Z",
     "iopub.status.busy": "2023-08-12T01:58:31.798420Z",
     "iopub.status.idle": "2023-08-12T01:58:31.807108Z",
     "shell.execute_reply": "2023-08-12T01:58:31.806230Z"
    },
    "papermill": {
     "duration": 0.055409,
     "end_time": "2023-08-12T01:58:31.809348",
     "exception": false,
     "start_time": "2023-08-12T01:58:31.753939",
     "status": "completed"
    },
    "scrolled": true,
    "tags": []
   },
   "outputs": [
    {
     "data": {
      "text/plain": [
       "RAM\n",
       "8 GB RAM                      438\n",
       "4 GB RAM                      383\n",
       "6 GB RAM                      322\n",
       "3 GB RAM                      175\n",
       "2 GB RAM                      108\n",
       "12 GB RAM                      91\n",
       "4 MB RAM                       53\n",
       "128 GB ROM                     43\n",
       "256 GB ROM                     37\n",
       "512 GB ROM                     27\n",
       "64 GB ROM                      23\n",
       "1 GB RAM                       18\n",
       "NA ROM                         13\n",
       "cm Display                      9\n",
       "0.046875 GB RAM                 8\n",
       "32 MB RAM                       8\n",
       "1 TB ROM                        7\n",
       "8 MB RAM                        7\n",
       "16 GB RAM                       6\n",
       "64 MB RAM                       6\n",
       "0 MB ROM                        5\n",
       "128 MB RAM                      5\n",
       "512 MB RAM                      5\n",
       "16 MB ROM                       4\n",
       "16 MB RAM                       4\n",
       "16 GB ROM                       3\n",
       "50 MB ROM                       2\n",
       "1 MB ROM                        2\n",
       "153 MB RAM                      2\n",
       "48 MB RAM                       2\n",
       "Expandable Upto 16 GB           2\n",
       "8 GB ROM                        2\n",
       "256 MB RAM                      2\n",
       "32 GB ROM                       2\n",
       "80 MB ROM                       1\n",
       "2 MB ROM                        1\n",
       "Expandable Upto 2 GB            1\n",
       "60 MB ROM                       1\n",
       "3.81 cm (1.5 inch) Display      1\n",
       "1.5 GB RAM                      1\n",
       "NA MB ROM                       1\n",
       "768 MB RAM                      1\n",
       "8 MB ROM                        1\n",
       "32 MB ROM                       1\n",
       "0.53 RAM                        1\n",
       "1 MB RAM                        1\n",
       "Name: count, dtype: int64"
      ]
     },
     "execution_count": 7,
     "metadata": {},
     "output_type": "execute_result"
    }
   ],
   "source": [
    "df[\"RAM\"].value_counts()"
   ]
  },
  {
   "cell_type": "code",
   "execution_count": 8,
   "id": "a97f3bd3",
   "metadata": {
    "execution": {
     "iopub.execute_input": "2023-08-12T01:58:31.897929Z",
     "iopub.status.busy": "2023-08-12T01:58:31.897479Z",
     "iopub.status.idle": "2023-08-12T01:58:31.907074Z",
     "shell.execute_reply": "2023-08-12T01:58:31.905953Z"
    },
    "papermill": {
     "duration": 0.057132,
     "end_time": "2023-08-12T01:58:31.909670",
     "exception": false,
     "start_time": "2023-08-12T01:58:31.852538",
     "status": "completed"
    },
    "tags": []
   },
   "outputs": [
    {
     "data": {
      "text/plain": [
       "ROM/Storage\n",
       "128 GB ROM               689\n",
       "64 GB ROM                401\n",
       "32 GB ROM                210\n",
       "256 GB ROM               189\n",
       "4 MB ROM                  41\n",
       "16 GB ROM                 33\n",
       "8 GB ROM                  15\n",
       "32 MB ROM                 13\n",
       "128 MB ROM                11\n",
       "0.125 GB ROM               8\n",
       "Expandable Upto 32 GB      8\n",
       "4 GB ROM                   7\n",
       "16 MB ROM                  7\n",
       "Expandable Upto 16 GB      5\n",
       "48 MB ROM                  5\n",
       "512 GB ROM                 4\n",
       "2.27 MB ROM                2\n",
       "10 MB ROM                  2\n",
       "153 MB ROM                 2\n",
       "100 MB ROM                 2\n",
       "Expandable Upto 8 GB       2\n",
       "0 GB ROM                   1\n",
       "NA KB ROM                  1\n",
       "2 MB ROM                   1\n",
       "NA ROM                     1\n",
       "20 MB ROM                  1\n",
       "100 KB ROM                 1\n",
       "Name: count, dtype: int64"
      ]
     },
     "execution_count": 8,
     "metadata": {},
     "output_type": "execute_result"
    }
   ],
   "source": [
    "df[\"ROM/Storage\"].value_counts()"
   ]
  },
  {
   "cell_type": "code",
   "execution_count": 9,
   "id": "630e49ba",
   "metadata": {
    "execution": {
     "iopub.execute_input": "2023-08-12T01:58:31.999823Z",
     "iopub.status.busy": "2023-08-12T01:58:31.999137Z",
     "iopub.status.idle": "2023-08-12T01:58:32.008502Z",
     "shell.execute_reply": "2023-08-12T01:58:32.007332Z"
    },
    "papermill": {
     "duration": 0.057377,
     "end_time": "2023-08-12T01:58:32.011069",
     "exception": false,
     "start_time": "2023-08-12T01:58:31.953692",
     "status": "completed"
    },
    "tags": []
   },
   "outputs": [
    {
     "data": {
      "text/plain": [
       "Battery\n",
       "5000 mAh    786\n",
       "4500 mAh    148\n",
       "6000 mAh    113\n",
       "4000 mAh     99\n",
       "A15 mAh      76\n",
       "           ... \n",
       "1110 mAh      1\n",
       "1430 mAh      1\n",
       "4780 mAh      1\n",
       "5300 mAh      1\n",
       "3225 mAh      1\n",
       "Name: count, Length: 102, dtype: int64"
      ]
     },
     "execution_count": 9,
     "metadata": {},
     "output_type": "execute_result"
    }
   ],
   "source": [
    "df[\"Battery\"].value_counts()"
   ]
  },
  {
   "cell_type": "code",
   "execution_count": 10,
   "id": "c967a3f6",
   "metadata": {
    "execution": {
     "iopub.execute_input": "2023-08-12T01:58:32.103559Z",
     "iopub.status.busy": "2023-08-12T01:58:32.102435Z",
     "iopub.status.idle": "2023-08-12T01:58:32.111632Z",
     "shell.execute_reply": "2023-08-12T01:58:32.110809Z"
    },
    "papermill": {
     "duration": 0.057891,
     "end_time": "2023-08-12T01:58:32.113850",
     "exception": false,
     "start_time": "2023-08-12T01:58:32.055959",
     "status": "completed"
    },
    "tags": []
   },
   "outputs": [
    {
     "data": {
      "text/plain": [
       "Processor\n",
       "1 Year Warranty for Phone and 6 Months Warranty for In-Box Accessories    47\n",
       "Qualcomm Snapdragon 680 Processor                                         45\n",
       "Brand Warranty for 1 Year                                                 40\n",
       "12 months                                                                 35\n",
       "Qualcomm Snapdragon 778G Processor                                        33\n",
       "                                                                          ..\n",
       "SDM710 Processor                                                           1\n",
       "1 Year Manufacturer Warranty for Handset and 6 Months for Accessories      1\n",
       "Mediatek MT6763T Octa Core 2.5 GHz Processor                               1\n",
       "MT6737M Quad Core 1.1 GHz Processor                                        1\n",
       "Helio P22 (MTK6762) Processor                                              1\n",
       "Name: count, Length: 332, dtype: int64"
      ]
     },
     "execution_count": 10,
     "metadata": {},
     "output_type": "execute_result"
    }
   ],
   "source": [
    "df[\"Processor\"].value_counts()"
   ]
  },
  {
   "cell_type": "code",
   "execution_count": 11,
   "id": "4a7e4602",
   "metadata": {
    "execution": {
     "iopub.execute_input": "2023-08-12T01:58:32.203013Z",
     "iopub.status.busy": "2023-08-12T01:58:32.202563Z",
     "iopub.status.idle": "2023-08-12T01:58:32.212294Z",
     "shell.execute_reply": "2023-08-12T01:58:32.211097Z"
    },
    "papermill": {
     "duration": 0.057167,
     "end_time": "2023-08-12T01:58:32.214611",
     "exception": false,
     "start_time": "2023-08-12T01:58:32.157444",
     "status": "completed"
    },
    "tags": []
   },
   "outputs": [
    {
     "data": {
      "text/plain": [
       "Front Camera\n",
       "16MP Front Camera               332\n",
       "8MP Front Camera                307\n",
       "5MP Front Camera                273\n",
       "12MP Front Camera               121\n",
       "32MP Front Camera               102\n",
       "13MP Front Camera                70\n",
       "20MP Front Camera                57\n",
       "7MP Front Camera                 27\n",
       "32MP + 8MP Dual Front Camera     15\n",
       "50MP Front Camera                15\n",
       "20MP + 2MP Dual Front Camera     14\n",
       "44MP Front Camera                11\n",
       "2MP Front Camera                  9\n",
       "10.8MP Front Camera               9\n",
       "10MP Front Camera                 8\n",
       "25MP Front Camera                 8\n",
       "50MP + 8MP Dual Front Camera      8\n",
       "0.3MP Front Camera                7\n",
       "16MP + 2MP Dual Front Camera      6\n",
       "44MP + 2MP Dual Front Camera      5\n",
       "60MP Front Camera                 5\n",
       "4MP Front Camera                  4\n",
       "24MP Front Camera                 3\n",
       "16MP + 8MP Dual Front Camera      3\n",
       "8MP + 2MP Dual Front Camera       3\n",
       "60 MP with OIS                    3\n",
       "16MP Dual Front Camera            2\n",
       "32MP + 2MP Dual Front Camera      2\n",
       "1.6MP Front Camera                2\n",
       "8MP + 8MP Dual Front Camera       1\n",
       "0MP Front Camera                  1\n",
       "1.3MP Front Camera                1\n",
       "13MP + 5MP Dual Front Camera      1\n",
       "Name: count, dtype: int64"
      ]
     },
     "execution_count": 11,
     "metadata": {},
     "output_type": "execute_result"
    }
   ],
   "source": [
    "df[\"Front Camera\"].value_counts()"
   ]
  },
  {
   "cell_type": "code",
   "execution_count": 12,
   "id": "9f309c7e",
   "metadata": {
    "execution": {
     "iopub.execute_input": "2023-08-12T01:58:32.307383Z",
     "iopub.status.busy": "2023-08-12T01:58:32.306669Z",
     "iopub.status.idle": "2023-08-12T01:58:32.317608Z",
     "shell.execute_reply": "2023-08-12T01:58:32.316462Z"
    },
    "papermill": {
     "duration": 0.061318,
     "end_time": "2023-08-12T01:58:32.319916",
     "exception": false,
     "start_time": "2023-08-12T01:58:32.258598",
     "status": "completed"
    },
    "tags": []
   },
   "outputs": [
    {
     "data": {
      "text/plain": [
       "Back/Rare Camera\n",
       "50MP Rear Camera                       101\n",
       "13MP Rear Camera                        93\n",
       "12MP + 12MP                             81\n",
       "13MP + 2MP                              81\n",
       "50MP + 2MP + 2MP                        80\n",
       "                                      ... \n",
       "48MP + 5MP + 16MP                        1\n",
       "108MP + 8MP + 16MP                       1\n",
       "108MP + 16MP + 8MP                       1\n",
       "16MP + 2MP + 2MP                         1\n",
       "16MP + 5MP + 2MP + Low Light Sensor      1\n",
       "Name: count, Length: 174, dtype: int64"
      ]
     },
     "execution_count": 12,
     "metadata": {},
     "output_type": "execute_result"
    }
   ],
   "source": [
    "df[\"Back/Rare Camera\"].value_counts()"
   ]
  },
  {
   "cell_type": "code",
   "execution_count": 13,
   "id": "c3d9b257",
   "metadata": {
    "execution": {
     "iopub.execute_input": "2023-08-12T01:58:32.411478Z",
     "iopub.status.busy": "2023-08-12T01:58:32.410794Z",
     "iopub.status.idle": "2023-08-12T01:58:32.420253Z",
     "shell.execute_reply": "2023-08-12T01:58:32.419352Z"
    },
    "papermill": {
     "duration": 0.058079,
     "end_time": "2023-08-12T01:58:32.422453",
     "exception": false,
     "start_time": "2023-08-12T01:58:32.364374",
     "status": "completed"
    },
    "tags": []
   },
   "outputs": [
    {
     "data": {
      "text/plain": [
       "Phone Name\n",
       "SAMSUNG Guru Music 2                          9\n",
       "OnePlus 10R 5G (Sierra Black, 256 GB)         5\n",
       "Nokia 8210 4G                                 4\n",
       "OnePlus Nord CE 2 5G (Bahama Blue, 128 GB)    4\n",
       "Nokia 3310 DS 2020                            4\n",
       "                                             ..\n",
       "OPPO A785G (Blue, 128 GB)                     1\n",
       "OPPO A54 (Moonlight Gold, 64 GB)              1\n",
       "OPPO A54 (Crystal Black, 64 GB)               1\n",
       "OPPO A16E (White, 32 GB)                      1\n",
       "Infinix S5 (Quetzal Cyan, 64 GB)              1\n",
       "Name: count, Length: 1507, dtype: int64"
      ]
     },
     "execution_count": 13,
     "metadata": {},
     "output_type": "execute_result"
    }
   ],
   "source": [
    "df[\"Phone Name\"].value_counts()"
   ]
  },
  {
   "cell_type": "markdown",
   "id": "05511f56",
   "metadata": {
    "papermill": {
     "duration": 0.044743,
     "end_time": "2023-08-12T01:58:32.511536",
     "exception": false,
     "start_time": "2023-08-12T01:58:32.466793",
     "status": "completed"
    },
    "tags": []
   },
   "source": [
    "## Data Cleaning"
   ]
  },
  {
   "cell_type": "markdown",
   "id": "e5f2be47",
   "metadata": {
    "papermill": {
     "duration": 0.043914,
     "end_time": "2023-08-12T01:58:32.600045",
     "exception": false,
     "start_time": "2023-08-12T01:58:32.556131",
     "status": "completed"
    },
    "tags": []
   },
   "source": [
    "Removing Processor column because it has lack of information"
   ]
  },
  {
   "cell_type": "code",
   "execution_count": 14,
   "id": "2ddeb612",
   "metadata": {
    "execution": {
     "iopub.execute_input": "2023-08-12T01:58:32.691792Z",
     "iopub.status.busy": "2023-08-12T01:58:32.690548Z",
     "iopub.status.idle": "2023-08-12T01:58:32.696781Z",
     "shell.execute_reply": "2023-08-12T01:58:32.695932Z"
    },
    "papermill": {
     "duration": 0.054417,
     "end_time": "2023-08-12T01:58:32.699115",
     "exception": false,
     "start_time": "2023-08-12T01:58:32.644698",
     "status": "completed"
    },
    "tags": []
   },
   "outputs": [],
   "source": [
    "df = df.drop(\"Processor\", axis=1)"
   ]
  },
  {
   "cell_type": "markdown",
   "id": "82553f9c",
   "metadata": {
    "papermill": {
     "duration": 0.043892,
     "end_time": "2023-08-12T01:58:32.788186",
     "exception": false,
     "start_time": "2023-08-12T01:58:32.744294",
     "status": "completed"
    },
    "tags": []
   },
   "source": [
    "Removing Date of Scraping column "
   ]
  },
  {
   "cell_type": "code",
   "execution_count": 15,
   "id": "10e46dfe",
   "metadata": {
    "execution": {
     "iopub.execute_input": "2023-08-12T01:58:32.879589Z",
     "iopub.status.busy": "2023-08-12T01:58:32.878911Z",
     "iopub.status.idle": "2023-08-12T01:58:32.885871Z",
     "shell.execute_reply": "2023-08-12T01:58:32.884967Z"
    },
    "papermill": {
     "duration": 0.056451,
     "end_time": "2023-08-12T01:58:32.888495",
     "exception": false,
     "start_time": "2023-08-12T01:58:32.832044",
     "status": "completed"
    },
    "tags": []
   },
   "outputs": [],
   "source": [
    "df = df.drop(\"Date of Scraping\", axis=1)"
   ]
  },
  {
   "cell_type": "code",
   "execution_count": 16,
   "id": "97126a55",
   "metadata": {
    "execution": {
     "iopub.execute_input": "2023-08-12T01:58:32.979006Z",
     "iopub.status.busy": "2023-08-12T01:58:32.978574Z",
     "iopub.status.idle": "2023-08-12T01:58:33.003672Z",
     "shell.execute_reply": "2023-08-12T01:58:33.002413Z"
    },
    "papermill": {
     "duration": 0.073149,
     "end_time": "2023-08-12T01:58:33.006096",
     "exception": false,
     "start_time": "2023-08-12T01:58:32.932947",
     "status": "completed"
    },
    "tags": []
   },
   "outputs": [
    {
     "data": {
      "text/html": [
       "<div>\n",
       "<style scoped>\n",
       "    .dataframe tbody tr th:only-of-type {\n",
       "        vertical-align: middle;\n",
       "    }\n",
       "\n",
       "    .dataframe tbody tr th {\n",
       "        vertical-align: top;\n",
       "    }\n",
       "\n",
       "    .dataframe thead th {\n",
       "        text-align: right;\n",
       "    }\n",
       "</style>\n",
       "<table border=\"1\" class=\"dataframe\">\n",
       "  <thead>\n",
       "    <tr style=\"text-align: right;\">\n",
       "      <th></th>\n",
       "      <th>Phone Name</th>\n",
       "      <th>Rating ?/5</th>\n",
       "      <th>Number of Ratings</th>\n",
       "      <th>RAM</th>\n",
       "      <th>ROM/Storage</th>\n",
       "      <th>Back/Rare Camera</th>\n",
       "      <th>Front Camera</th>\n",
       "      <th>Battery</th>\n",
       "      <th>Price in INR</th>\n",
       "    </tr>\n",
       "  </thead>\n",
       "  <tbody>\n",
       "    <tr>\n",
       "      <th>0</th>\n",
       "      <td>POCO C50 (Royal Blue, 32 GB)</td>\n",
       "      <td>4.2</td>\n",
       "      <td>33,561</td>\n",
       "      <td>2 GB RAM</td>\n",
       "      <td>32 GB ROM</td>\n",
       "      <td>8MP Dual Camera</td>\n",
       "      <td>5MP Front Camera</td>\n",
       "      <td>5000 mAh</td>\n",
       "      <td>₹5,649</td>\n",
       "    </tr>\n",
       "    <tr>\n",
       "      <th>1</th>\n",
       "      <td>POCO M4 5G (Cool Blue, 64 GB)</td>\n",
       "      <td>4.2</td>\n",
       "      <td>77,128</td>\n",
       "      <td>4 GB RAM</td>\n",
       "      <td>64 GB ROM</td>\n",
       "      <td>50MP + 2MP</td>\n",
       "      <td>8MP Front Camera</td>\n",
       "      <td>5000 mAh</td>\n",
       "      <td>₹11,999</td>\n",
       "    </tr>\n",
       "    <tr>\n",
       "      <th>2</th>\n",
       "      <td>POCO C51 (Royal Blue, 64 GB)</td>\n",
       "      <td>4.3</td>\n",
       "      <td>15,175</td>\n",
       "      <td>4 GB RAM</td>\n",
       "      <td>64 GB ROM</td>\n",
       "      <td>8MP Dual Rear Camera</td>\n",
       "      <td>5MP Front Camera</td>\n",
       "      <td>5000 mAh</td>\n",
       "      <td>₹6,999</td>\n",
       "    </tr>\n",
       "    <tr>\n",
       "      <th>3</th>\n",
       "      <td>POCO C55 (Cool Blue, 64 GB)</td>\n",
       "      <td>4.2</td>\n",
       "      <td>22,621</td>\n",
       "      <td>4 GB RAM</td>\n",
       "      <td>64 GB ROM</td>\n",
       "      <td>50MP Dual Rear Camera</td>\n",
       "      <td>5MP Front Camera</td>\n",
       "      <td>5000 mAh</td>\n",
       "      <td>₹7,749</td>\n",
       "    </tr>\n",
       "    <tr>\n",
       "      <th>4</th>\n",
       "      <td>POCO C51 (Power Black, 64 GB)</td>\n",
       "      <td>4.3</td>\n",
       "      <td>15,175</td>\n",
       "      <td>4 GB RAM</td>\n",
       "      <td>64 GB ROM</td>\n",
       "      <td>8MP Dual Rear Camera</td>\n",
       "      <td>5MP Front Camera</td>\n",
       "      <td>5000 mAh</td>\n",
       "      <td>₹6,999</td>\n",
       "    </tr>\n",
       "    <tr>\n",
       "      <th>...</th>\n",
       "      <td>...</td>\n",
       "      <td>...</td>\n",
       "      <td>...</td>\n",
       "      <td>...</td>\n",
       "      <td>...</td>\n",
       "      <td>...</td>\n",
       "      <td>...</td>\n",
       "      <td>...</td>\n",
       "      <td>...</td>\n",
       "    </tr>\n",
       "    <tr>\n",
       "      <th>1831</th>\n",
       "      <td>Infinix Note 7 (Forest Green, 64 GB)</td>\n",
       "      <td>4.3</td>\n",
       "      <td>25,582</td>\n",
       "      <td>4 GB RAM</td>\n",
       "      <td>64 GB ROM</td>\n",
       "      <td>48MP + 2MP + 2MP + AI Lens Camera</td>\n",
       "      <td>16MP Front Camera</td>\n",
       "      <td>5000 mAh</td>\n",
       "      <td>₹14,999</td>\n",
       "    </tr>\n",
       "    <tr>\n",
       "      <th>1832</th>\n",
       "      <td>Infinix Note 7 (Bolivia Blue, 64 GB)</td>\n",
       "      <td>4.3</td>\n",
       "      <td>25,582</td>\n",
       "      <td>4 GB RAM</td>\n",
       "      <td>64 GB ROM</td>\n",
       "      <td>48MP + 2MP + 2MP + AI Lens Camera</td>\n",
       "      <td>16MP Front Camera</td>\n",
       "      <td>5000 mAh</td>\n",
       "      <td>₹14,999</td>\n",
       "    </tr>\n",
       "    <tr>\n",
       "      <th>1833</th>\n",
       "      <td>Infinix Note 7 (Aether Black, 64 GB)</td>\n",
       "      <td>4.3</td>\n",
       "      <td>25,582</td>\n",
       "      <td>4 GB RAM</td>\n",
       "      <td>64 GB ROM</td>\n",
       "      <td>48MP + 2MP + 2MP + AI Lens Camera</td>\n",
       "      <td>16MP Front Camera</td>\n",
       "      <td>5000 mAh</td>\n",
       "      <td>₹14,999</td>\n",
       "    </tr>\n",
       "    <tr>\n",
       "      <th>1834</th>\n",
       "      <td>Infinix Zero 8i (Silver Diamond, 128 GB)</td>\n",
       "      <td>4.2</td>\n",
       "      <td>7,117</td>\n",
       "      <td>8 GB RAM</td>\n",
       "      <td>128 GB ROM</td>\n",
       "      <td>48MP + 8MP + 2MP + AI Lens Camera</td>\n",
       "      <td>16MP + 8MP Dual Front Camera</td>\n",
       "      <td>4500 mAh</td>\n",
       "      <td>₹18,999</td>\n",
       "    </tr>\n",
       "    <tr>\n",
       "      <th>1835</th>\n",
       "      <td>Infinix S5 (Quetzal Cyan, 64 GB)</td>\n",
       "      <td>4.3</td>\n",
       "      <td>15,701</td>\n",
       "      <td>4 GB RAM</td>\n",
       "      <td>64 GB ROM</td>\n",
       "      <td>16MP + 5MP + 2MP + Low Light Sensor</td>\n",
       "      <td>32MP Front Camera</td>\n",
       "      <td>4000 mAh</td>\n",
       "      <td>₹10,999</td>\n",
       "    </tr>\n",
       "  </tbody>\n",
       "</table>\n",
       "<p>1647 rows × 9 columns</p>\n",
       "</div>"
      ],
      "text/plain": [
       "                                    Phone Name  Rating ?/5 Number of Ratings  \\\n",
       "0                 POCO C50 (Royal Blue, 32 GB)         4.2            33,561   \n",
       "1                POCO M4 5G (Cool Blue, 64 GB)         4.2            77,128   \n",
       "2                 POCO C51 (Royal Blue, 64 GB)         4.3            15,175   \n",
       "3                  POCO C55 (Cool Blue, 64 GB)         4.2            22,621   \n",
       "4                POCO C51 (Power Black, 64 GB)         4.3            15,175   \n",
       "...                                        ...         ...               ...   \n",
       "1831      Infinix Note 7 (Forest Green, 64 GB)         4.3            25,582   \n",
       "1832      Infinix Note 7 (Bolivia Blue, 64 GB)         4.3            25,582   \n",
       "1833      Infinix Note 7 (Aether Black, 64 GB)         4.3            25,582   \n",
       "1834  Infinix Zero 8i (Silver Diamond, 128 GB)         4.2             7,117   \n",
       "1835          Infinix S5 (Quetzal Cyan, 64 GB)         4.3            15,701   \n",
       "\n",
       "           RAM ROM/Storage                     Back/Rare Camera  \\\n",
       "0     2 GB RAM   32 GB ROM                      8MP Dual Camera   \n",
       "1     4 GB RAM   64 GB ROM                           50MP + 2MP   \n",
       "2     4 GB RAM   64 GB ROM                 8MP Dual Rear Camera   \n",
       "3     4 GB RAM   64 GB ROM                50MP Dual Rear Camera   \n",
       "4     4 GB RAM   64 GB ROM                 8MP Dual Rear Camera   \n",
       "...        ...         ...                                  ...   \n",
       "1831  4 GB RAM   64 GB ROM    48MP + 2MP + 2MP + AI Lens Camera   \n",
       "1832  4 GB RAM   64 GB ROM    48MP + 2MP + 2MP + AI Lens Camera   \n",
       "1833  4 GB RAM   64 GB ROM    48MP + 2MP + 2MP + AI Lens Camera   \n",
       "1834  8 GB RAM  128 GB ROM    48MP + 8MP + 2MP + AI Lens Camera   \n",
       "1835  4 GB RAM   64 GB ROM  16MP + 5MP + 2MP + Low Light Sensor   \n",
       "\n",
       "                      Front Camera   Battery Price in INR  \n",
       "0                 5MP Front Camera  5000 mAh       ₹5,649  \n",
       "1                 8MP Front Camera  5000 mAh      ₹11,999  \n",
       "2                 5MP Front Camera  5000 mAh       ₹6,999  \n",
       "3                 5MP Front Camera  5000 mAh       ₹7,749  \n",
       "4                 5MP Front Camera  5000 mAh       ₹6,999  \n",
       "...                            ...       ...          ...  \n",
       "1831             16MP Front Camera  5000 mAh      ₹14,999  \n",
       "1832             16MP Front Camera  5000 mAh      ₹14,999  \n",
       "1833             16MP Front Camera  5000 mAh      ₹14,999  \n",
       "1834  16MP + 8MP Dual Front Camera  4500 mAh      ₹18,999  \n",
       "1835             32MP Front Camera  4000 mAh      ₹10,999  \n",
       "\n",
       "[1647 rows x 9 columns]"
      ]
     },
     "execution_count": 16,
     "metadata": {},
     "output_type": "execute_result"
    }
   ],
   "source": [
    "df.loc[df[\"RAM\"].str.contains(\"RAM\")]"
   ]
  },
  {
   "cell_type": "markdown",
   "id": "0d6b62d5",
   "metadata": {
    "papermill": {
     "duration": 0.044191,
     "end_time": "2023-08-12T01:58:33.094797",
     "exception": false,
     "start_time": "2023-08-12T01:58:33.050606",
     "status": "completed"
    },
    "tags": []
   },
   "source": [
    "Removing rows without information of RAM in RAM column"
   ]
  },
  {
   "cell_type": "code",
   "execution_count": 17,
   "id": "8a3dab71",
   "metadata": {
    "execution": {
     "iopub.execute_input": "2023-08-12T01:58:33.186370Z",
     "iopub.status.busy": "2023-08-12T01:58:33.185464Z",
     "iopub.status.idle": "2023-08-12T01:58:33.192779Z",
     "shell.execute_reply": "2023-08-12T01:58:33.191843Z"
    },
    "papermill": {
     "duration": 0.055885,
     "end_time": "2023-08-12T01:58:33.195070",
     "exception": false,
     "start_time": "2023-08-12T01:58:33.139185",
     "status": "completed"
    },
    "tags": []
   },
   "outputs": [],
   "source": [
    "df = df.loc[df[\"RAM\"].str.contains(\"RAM\")]"
   ]
  },
  {
   "cell_type": "markdown",
   "id": "738074e5",
   "metadata": {
    "papermill": {
     "duration": 0.044735,
     "end_time": "2023-08-12T01:58:33.284316",
     "exception": false,
     "start_time": "2023-08-12T01:58:33.239581",
     "status": "completed"
    },
    "tags": []
   },
   "source": [
    "Filling all rows with NaN values in Front Camera to 0"
   ]
  },
  {
   "cell_type": "code",
   "execution_count": 18,
   "id": "7cd531a0",
   "metadata": {
    "execution": {
     "iopub.execute_input": "2023-08-12T01:58:33.378700Z",
     "iopub.status.busy": "2023-08-12T01:58:33.377386Z",
     "iopub.status.idle": "2023-08-12T01:58:33.384560Z",
     "shell.execute_reply": "2023-08-12T01:58:33.383650Z"
    },
    "papermill": {
     "duration": 0.057633,
     "end_time": "2023-08-12T01:58:33.386752",
     "exception": false,
     "start_time": "2023-08-12T01:58:33.329119",
     "status": "completed"
    },
    "tags": []
   },
   "outputs": [],
   "source": [
    "df[\"Front Camera\"] = df[\"Front Camera\"].fillna('0')"
   ]
  },
  {
   "cell_type": "code",
   "execution_count": 19,
   "id": "3d6dc717",
   "metadata": {
    "execution": {
     "iopub.execute_input": "2023-08-12T01:58:33.478353Z",
     "iopub.status.busy": "2023-08-12T01:58:33.477652Z",
     "iopub.status.idle": "2023-08-12T01:58:33.491400Z",
     "shell.execute_reply": "2023-08-12T01:58:33.490255Z"
    },
    "papermill": {
     "duration": 0.062253,
     "end_time": "2023-08-12T01:58:33.493758",
     "exception": false,
     "start_time": "2023-08-12T01:58:33.431505",
     "status": "completed"
    },
    "tags": []
   },
   "outputs": [
    {
     "data": {
      "text/plain": [
       "Phone Name           0\n",
       "Rating ?/5           0\n",
       "Number of Ratings    0\n",
       "RAM                  0\n",
       "ROM/Storage          0\n",
       "Back/Rare Camera     0\n",
       "Front Camera         0\n",
       "Battery              0\n",
       "Price in INR         0\n",
       "dtype: int64"
      ]
     },
     "execution_count": 19,
     "metadata": {},
     "output_type": "execute_result"
    }
   ],
   "source": [
    "df.isnull().sum()"
   ]
  },
  {
   "cell_type": "markdown",
   "id": "f03cc062",
   "metadata": {
    "papermill": {
     "duration": 0.045935,
     "end_time": "2023-08-12T01:58:33.584427",
     "exception": false,
     "start_time": "2023-08-12T01:58:33.538492",
     "status": "completed"
    },
    "tags": []
   },
   "source": [
    "Removing Diplicated Phone Name Rows"
   ]
  },
  {
   "cell_type": "code",
   "execution_count": 20,
   "id": "e4fba67c",
   "metadata": {
    "execution": {
     "iopub.execute_input": "2023-08-12T01:58:33.680341Z",
     "iopub.status.busy": "2023-08-12T01:58:33.679889Z",
     "iopub.status.idle": "2023-08-12T01:58:33.686641Z",
     "shell.execute_reply": "2023-08-12T01:58:33.685813Z"
    },
    "papermill": {
     "duration": 0.057816,
     "end_time": "2023-08-12T01:58:33.689021",
     "exception": false,
     "start_time": "2023-08-12T01:58:33.631205",
     "status": "completed"
    },
    "tags": []
   },
   "outputs": [],
   "source": [
    "df = df[~df.duplicated(subset=[\"Phone Name\"], keep=\"first\")]"
   ]
  },
  {
   "cell_type": "markdown",
   "id": "f48b208b",
   "metadata": {
    "papermill": {
     "duration": 0.050199,
     "end_time": "2023-08-12T01:58:33.784517",
     "exception": false,
     "start_time": "2023-08-12T01:58:33.734318",
     "status": "completed"
    },
    "tags": []
   },
   "source": [
    "#### Makes Phone Name as index column"
   ]
  },
  {
   "cell_type": "code",
   "execution_count": 21,
   "id": "b56c13e8",
   "metadata": {
    "execution": {
     "iopub.execute_input": "2023-08-12T01:58:33.888048Z",
     "iopub.status.busy": "2023-08-12T01:58:33.887013Z",
     "iopub.status.idle": "2023-08-12T01:58:33.893978Z",
     "shell.execute_reply": "2023-08-12T01:58:33.892830Z"
    },
    "papermill": {
     "duration": 0.062318,
     "end_time": "2023-08-12T01:58:33.896450",
     "exception": false,
     "start_time": "2023-08-12T01:58:33.834132",
     "status": "completed"
    },
    "tags": []
   },
   "outputs": [],
   "source": [
    "df = df.set_index(\"Phone Name\")"
   ]
  },
  {
   "cell_type": "markdown",
   "id": "bc7071ee",
   "metadata": {
    "papermill": {
     "duration": 0.052675,
     "end_time": "2023-08-12T01:58:33.994202",
     "exception": false,
     "start_time": "2023-08-12T01:58:33.941527",
     "status": "completed"
    },
    "tags": []
   },
   "source": [
    "#### Making Number of Ratings as numeric column"
   ]
  },
  {
   "cell_type": "code",
   "execution_count": 22,
   "id": "b0a2ccda",
   "metadata": {
    "execution": {
     "iopub.execute_input": "2023-08-12T01:58:34.087163Z",
     "iopub.status.busy": "2023-08-12T01:58:34.086304Z",
     "iopub.status.idle": "2023-08-12T01:58:34.093890Z",
     "shell.execute_reply": "2023-08-12T01:58:34.092862Z"
    },
    "papermill": {
     "duration": 0.057606,
     "end_time": "2023-08-12T01:58:34.096414",
     "exception": false,
     "start_time": "2023-08-12T01:58:34.038808",
     "status": "completed"
    },
    "tags": []
   },
   "outputs": [],
   "source": [
    "df[\"Number of Ratings\"] = df[\"Number of Ratings\"].str.replace(\",\",\"\")"
   ]
  },
  {
   "cell_type": "code",
   "execution_count": 23,
   "id": "d78ed7f0",
   "metadata": {
    "execution": {
     "iopub.execute_input": "2023-08-12T01:58:34.203395Z",
     "iopub.status.busy": "2023-08-12T01:58:34.202519Z",
     "iopub.status.idle": "2023-08-12T01:58:34.214039Z",
     "shell.execute_reply": "2023-08-12T01:58:34.212578Z"
    },
    "papermill": {
     "duration": 0.065493,
     "end_time": "2023-08-12T01:58:34.217257",
     "exception": false,
     "start_time": "2023-08-12T01:58:34.151764",
     "status": "completed"
    },
    "tags": []
   },
   "outputs": [],
   "source": [
    "df = df.astype({\"Number of Ratings\":\"float\"})"
   ]
  },
  {
   "cell_type": "code",
   "execution_count": 24,
   "id": "bd0b3b1e",
   "metadata": {
    "execution": {
     "iopub.execute_input": "2023-08-12T01:58:34.313073Z",
     "iopub.status.busy": "2023-08-12T01:58:34.312626Z",
     "iopub.status.idle": "2023-08-12T01:58:34.327842Z",
     "shell.execute_reply": "2023-08-12T01:58:34.326808Z"
    },
    "papermill": {
     "duration": 0.066481,
     "end_time": "2023-08-12T01:58:34.330149",
     "exception": false,
     "start_time": "2023-08-12T01:58:34.263668",
     "status": "completed"
    },
    "tags": []
   },
   "outputs": [
    {
     "data": {
      "text/plain": [
       "count       1348.00\n",
       "mean       47139.86\n",
       "std       104060.84\n",
       "min            0.00\n",
       "25%         1313.00\n",
       "50%         7885.00\n",
       "75%        40312.00\n",
       "max      1342530.00\n",
       "Name: Number of Ratings, dtype: float64"
      ]
     },
     "execution_count": 24,
     "metadata": {},
     "output_type": "execute_result"
    }
   ],
   "source": [
    "df[\"Number of Ratings\"].describe().round(2)"
   ]
  },
  {
   "cell_type": "code",
   "execution_count": 25,
   "id": "1ea81ff0",
   "metadata": {
    "execution": {
     "iopub.execute_input": "2023-08-12T01:58:34.424432Z",
     "iopub.status.busy": "2023-08-12T01:58:34.423520Z",
     "iopub.status.idle": "2023-08-12T01:58:34.695350Z",
     "shell.execute_reply": "2023-08-12T01:58:34.694066Z"
    },
    "papermill": {
     "duration": 0.322918,
     "end_time": "2023-08-12T01:58:34.698676",
     "exception": false,
     "start_time": "2023-08-12T01:58:34.375758",
     "status": "completed"
    },
    "tags": []
   },
   "outputs": [
    {
     "data": {
      "text/plain": [
       "<Axes: xlabel='Number of Ratings'>"
      ]
     },
     "execution_count": 25,
     "metadata": {},
     "output_type": "execute_result"
    },
    {
     "data": {
      "image/png": "[encoded data removed]",
      "text/plain": [
       "<Figure size 1200x500 with 1 Axes>"
      ]
     },
     "metadata": {},
     "output_type": "display_data"
    }
   ],
   "source": [
    "plt.figure(figsize=(12,5))\n",
    "sns.boxplot(data=df, x=\"Number of Ratings\")"
   ]
  },
  {
   "cell_type": "markdown",
   "id": "abd3ee5f",
   "metadata": {
    "papermill": {
     "duration": 0.051383,
     "end_time": "2023-08-12T01:58:34.806701",
     "exception": false,
     "start_time": "2023-08-12T01:58:34.755318",
     "status": "completed"
    },
    "tags": []
   },
   "source": [
    "Removing rows with less than 100 votes and more than 400 000"
   ]
  },
  {
   "cell_type": "code",
   "execution_count": 26,
   "id": "6e6f93a5",
   "metadata": {
    "execution": {
     "iopub.execute_input": "2023-08-12T01:58:34.903061Z",
     "iopub.status.busy": "2023-08-12T01:58:34.902656Z",
     "iopub.status.idle": "2023-08-12T01:58:34.912285Z",
     "shell.execute_reply": "2023-08-12T01:58:34.911085Z"
    },
    "papermill": {
     "duration": 0.06132,
     "end_time": "2023-08-12T01:58:34.915045",
     "exception": false,
     "start_time": "2023-08-12T01:58:34.853725",
     "status": "completed"
    },
    "tags": []
   },
   "outputs": [],
   "source": [
    "df = df.drop(df[df[\"Number of Ratings\"] < 100].index, axis=0)\n",
    "df = df.drop(df[df[\"Number of Ratings\"] > 400000].index, axis=0)"
   ]
  },
  {
   "cell_type": "code",
   "execution_count": 27,
   "id": "1f3a6e72",
   "metadata": {
    "execution": {
     "iopub.execute_input": "2023-08-12T01:58:35.008688Z",
     "iopub.status.busy": "2023-08-12T01:58:35.008234Z",
     "iopub.status.idle": "2023-08-12T01:58:35.211762Z",
     "shell.execute_reply": "2023-08-12T01:58:35.210485Z"
    },
    "papermill": {
     "duration": 0.254108,
     "end_time": "2023-08-12T01:58:35.214455",
     "exception": false,
     "start_time": "2023-08-12T01:58:34.960347",
     "status": "completed"
    },
    "tags": []
   },
   "outputs": [
    {
     "data": {
      "text/plain": [
       "<Axes: xlabel='Number of Ratings'>"
      ]
     },
     "execution_count": 27,
     "metadata": {},
     "output_type": "execute_result"
    },
    {
     "data": {
      "image/png": "[encoded data removed]",
      "text/plain": [
       "<Figure size 1200x500 with 1 Axes>"
      ]
     },
     "metadata": {},
     "output_type": "display_data"
    }
   ],
   "source": [
    "plt.figure(figsize=(12,5))\n",
    "sns.boxplot(data=df, x=\"Number of Ratings\")"
   ]
  },
  {
   "cell_type": "markdown",
   "id": "ca7dda35",
   "metadata": {
    "papermill": {
     "duration": 0.045631,
     "end_time": "2023-08-12T01:58:35.305770",
     "exception": false,
     "start_time": "2023-08-12T01:58:35.260139",
     "status": "completed"
    },
    "tags": []
   },
   "source": [
    "Removing rows which dont have GB of RAM"
   ]
  },
  {
   "cell_type": "code",
   "execution_count": 28,
   "id": "f4063b7b",
   "metadata": {
    "execution": {
     "iopub.execute_input": "2023-08-12T01:58:35.399095Z",
     "iopub.status.busy": "2023-08-12T01:58:35.398660Z",
     "iopub.status.idle": "2023-08-12T01:58:35.406934Z",
     "shell.execute_reply": "2023-08-12T01:58:35.405642Z"
    },
    "papermill": {
     "duration": 0.058113,
     "end_time": "2023-08-12T01:58:35.409587",
     "exception": false,
     "start_time": "2023-08-12T01:58:35.351474",
     "status": "completed"
    },
    "tags": []
   },
   "outputs": [],
   "source": [
    "df = df.loc[df[\"RAM\"].str.contains(\"GB\")]"
   ]
  },
  {
   "cell_type": "markdown",
   "id": "f78166ed",
   "metadata": {
    "papermill": {
     "duration": 0.045929,
     "end_time": "2023-08-12T01:58:35.502526",
     "exception": false,
     "start_time": "2023-08-12T01:58:35.456597",
     "status": "completed"
    },
    "tags": []
   },
   "source": [
    "#### Making RAM as numeric column"
   ]
  },
  {
   "cell_type": "code",
   "execution_count": 29,
   "id": "4be653a9",
   "metadata": {
    "execution": {
     "iopub.execute_input": "2023-08-12T01:58:35.597870Z",
     "iopub.status.busy": "2023-08-12T01:58:35.597161Z",
     "iopub.status.idle": "2023-08-12T01:58:35.607274Z",
     "shell.execute_reply": "2023-08-12T01:58:35.606296Z"
    },
    "papermill": {
     "duration": 0.060735,
     "end_time": "2023-08-12T01:58:35.609786",
     "exception": false,
     "start_time": "2023-08-12T01:58:35.549051",
     "status": "completed"
    },
    "tags": []
   },
   "outputs": [],
   "source": [
    "df[\"RAM\"] = df[\"RAM\"].str.replace('\\D', '', regex=True)"
   ]
  },
  {
   "cell_type": "code",
   "execution_count": 30,
   "id": "1a5fdd79",
   "metadata": {
    "execution": {
     "iopub.execute_input": "2023-08-12T01:58:35.704817Z",
     "iopub.status.busy": "2023-08-12T01:58:35.704123Z",
     "iopub.status.idle": "2023-08-12T01:58:35.710478Z",
     "shell.execute_reply": "2023-08-12T01:58:35.709611Z"
    },
    "papermill": {
     "duration": 0.056483,
     "end_time": "2023-08-12T01:58:35.713051",
     "exception": false,
     "start_time": "2023-08-12T01:58:35.656568",
     "status": "completed"
    },
    "tags": []
   },
   "outputs": [],
   "source": [
    "df = df.rename(columns={\"RAM\":\"GB of RAM\"})"
   ]
  },
  {
   "cell_type": "code",
   "execution_count": 31,
   "id": "5d98dbea",
   "metadata": {
    "execution": {
     "iopub.execute_input": "2023-08-12T01:58:35.809540Z",
     "iopub.status.busy": "2023-08-12T01:58:35.808870Z",
     "iopub.status.idle": "2023-08-12T01:58:35.817769Z",
     "shell.execute_reply": "2023-08-12T01:58:35.816872Z"
    },
    "papermill": {
     "duration": 0.060678,
     "end_time": "2023-08-12T01:58:35.820343",
     "exception": false,
     "start_time": "2023-08-12T01:58:35.759665",
     "status": "completed"
    },
    "tags": []
   },
   "outputs": [],
   "source": [
    "df = df.astype({\"GB of RAM\":\"int\"})"
   ]
  },
  {
   "cell_type": "code",
   "execution_count": 32,
   "id": "8a67ea10",
   "metadata": {
    "execution": {
     "iopub.execute_input": "2023-08-12T01:58:35.914861Z",
     "iopub.status.busy": "2023-08-12T01:58:35.914411Z",
     "iopub.status.idle": "2023-08-12T01:58:36.147953Z",
     "shell.execute_reply": "2023-08-12T01:58:36.146682Z"
    },
    "papermill": {
     "duration": 0.284102,
     "end_time": "2023-08-12T01:58:36.150483",
     "exception": false,
     "start_time": "2023-08-12T01:58:35.866381",
     "status": "completed"
    },
    "tags": []
   },
   "outputs": [
    {
     "data": {
      "text/plain": [
       "<Axes: xlabel='GB of RAM'>"
      ]
     },
     "execution_count": 32,
     "metadata": {},
     "output_type": "execute_result"
    },
    {
     "data": {
      "image/png": "[encoded data removed]",
      "text/plain": [
       "<Figure size 1200x500 with 1 Axes>"
      ]
     },
     "metadata": {},
     "output_type": "display_data"
    }
   ],
   "source": [
    "plt.figure(figsize=(12,5))\n",
    "sns.boxplot(data=df, x=\"GB of RAM\")"
   ]
  },
  {
   "cell_type": "markdown",
   "id": "5fa5cf25",
   "metadata": {
    "papermill": {
     "duration": 0.048396,
     "end_time": "2023-08-12T01:58:36.246225",
     "exception": false,
     "start_time": "2023-08-12T01:58:36.197829",
     "status": "completed"
    },
    "tags": []
   },
   "source": [
    "Remove Hight value"
   ]
  },
  {
   "cell_type": "code",
   "execution_count": 33,
   "id": "96f5a592",
   "metadata": {
    "execution": {
     "iopub.execute_input": "2023-08-12T01:58:36.343582Z",
     "iopub.status.busy": "2023-08-12T01:58:36.342878Z",
     "iopub.status.idle": "2023-08-12T01:58:36.350649Z",
     "shell.execute_reply": "2023-08-12T01:58:36.349796Z"
    },
    "papermill": {
     "duration": 0.058436,
     "end_time": "2023-08-12T01:58:36.353358",
     "exception": false,
     "start_time": "2023-08-12T01:58:36.294922",
     "status": "completed"
    },
    "tags": []
   },
   "outputs": [],
   "source": [
    "df = df.drop(df[df[\"GB of RAM\"]>100].index, axis=0)"
   ]
  },
  {
   "cell_type": "code",
   "execution_count": 34,
   "id": "a48a1634",
   "metadata": {
    "execution": {
     "iopub.execute_input": "2023-08-12T01:58:36.476536Z",
     "iopub.status.busy": "2023-08-12T01:58:36.475858Z",
     "iopub.status.idle": "2023-08-12T01:58:36.718267Z",
     "shell.execute_reply": "2023-08-12T01:58:36.717395Z"
    },
    "papermill": {
     "duration": 0.302027,
     "end_time": "2023-08-12T01:58:36.720583",
     "exception": false,
     "start_time": "2023-08-12T01:58:36.418556",
     "status": "completed"
    },
    "tags": []
   },
   "outputs": [
    {
     "data": {
      "text/plain": [
       "<Axes: xlabel='GB of RAM'>"
      ]
     },
     "execution_count": 34,
     "metadata": {},
     "output_type": "execute_result"
    },
    {
     "data": {
      "image/png": "[encoded data removed]",
      "text/plain": [
       "<Figure size 1200x500 with 1 Axes>"
      ]
     },
     "metadata": {},
     "output_type": "display_data"
    }
   ],
   "source": [
    "plt.figure(figsize=(12,5))\n",
    "sns.boxplot(data=df, x=\"GB of RAM\")"
   ]
  },
  {
   "cell_type": "markdown",
   "id": "68091123",
   "metadata": {
    "papermill": {
     "duration": 0.047737,
     "end_time": "2023-08-12T01:58:36.815349",
     "exception": false,
     "start_time": "2023-08-12T01:58:36.767612",
     "status": "completed"
    },
    "tags": []
   },
   "source": [
    "Checking if there is any ROM who have other value than GB"
   ]
  },
  {
   "cell_type": "code",
   "execution_count": 35,
   "id": "b686e65d",
   "metadata": {
    "execution": {
     "iopub.execute_input": "2023-08-12T01:58:36.911691Z",
     "iopub.status.busy": "2023-08-12T01:58:36.910916Z",
     "iopub.status.idle": "2023-08-12T01:58:36.924148Z",
     "shell.execute_reply": "2023-08-12T01:58:36.922766Z"
    },
    "papermill": {
     "duration": 0.06448,
     "end_time": "2023-08-12T01:58:36.926755",
     "exception": false,
     "start_time": "2023-08-12T01:58:36.862275",
     "status": "completed"
    },
    "tags": []
   },
   "outputs": [
    {
     "data": {
      "text/html": [
       "<div>\n",
       "<style scoped>\n",
       "    .dataframe tbody tr th:only-of-type {\n",
       "        vertical-align: middle;\n",
       "    }\n",
       "\n",
       "    .dataframe tbody tr th {\n",
       "        vertical-align: top;\n",
       "    }\n",
       "\n",
       "    .dataframe thead th {\n",
       "        text-align: right;\n",
       "    }\n",
       "</style>\n",
       "<table border=\"1\" class=\"dataframe\">\n",
       "  <thead>\n",
       "    <tr style=\"text-align: right;\">\n",
       "      <th></th>\n",
       "      <th>Rating ?/5</th>\n",
       "      <th>Number of Ratings</th>\n",
       "      <th>GB of RAM</th>\n",
       "      <th>ROM/Storage</th>\n",
       "      <th>Back/Rare Camera</th>\n",
       "      <th>Front Camera</th>\n",
       "      <th>Battery</th>\n",
       "      <th>Price in INR</th>\n",
       "    </tr>\n",
       "    <tr>\n",
       "      <th>Phone Name</th>\n",
       "      <th></th>\n",
       "      <th></th>\n",
       "      <th></th>\n",
       "      <th></th>\n",
       "      <th></th>\n",
       "      <th></th>\n",
       "      <th></th>\n",
       "      <th></th>\n",
       "    </tr>\n",
       "  </thead>\n",
       "  <tbody>\n",
       "  </tbody>\n",
       "</table>\n",
       "</div>"
      ],
      "text/plain": [
       "Empty DataFrame\n",
       "Columns: [Rating ?/5, Number of Ratings, GB of RAM, ROM/Storage, Back/Rare Camera, Front Camera, Battery, Price in INR]\n",
       "Index: []"
      ]
     },
     "execution_count": 35,
     "metadata": {},
     "output_type": "execute_result"
    }
   ],
   "source": [
    "df.loc[~df[\"ROM/Storage\"].str.contains(\"GB\")]"
   ]
  },
  {
   "cell_type": "markdown",
   "id": "25d7d800",
   "metadata": {
    "papermill": {
     "duration": 0.046999,
     "end_time": "2023-08-12T01:58:37.021000",
     "exception": false,
     "start_time": "2023-08-12T01:58:36.974001",
     "status": "completed"
    },
    "tags": []
   },
   "source": [
    "#### Making ROM/Storage as numeric column"
   ]
  },
  {
   "cell_type": "code",
   "execution_count": 36,
   "id": "5ddf9db0",
   "metadata": {
    "execution": {
     "iopub.execute_input": "2023-08-12T01:58:37.118635Z",
     "iopub.status.busy": "2023-08-12T01:58:37.117879Z",
     "iopub.status.idle": "2023-08-12T01:58:37.127985Z",
     "shell.execute_reply": "2023-08-12T01:58:37.126934Z"
    },
    "papermill": {
     "duration": 0.061485,
     "end_time": "2023-08-12T01:58:37.130428",
     "exception": false,
     "start_time": "2023-08-12T01:58:37.068943",
     "status": "completed"
    },
    "tags": []
   },
   "outputs": [],
   "source": [
    "df[\"ROM/Storage\"] = df[\"ROM/Storage\"].str.replace('\\D', '', regex=True)"
   ]
  },
  {
   "cell_type": "code",
   "execution_count": 37,
   "id": "7d04f299",
   "metadata": {
    "execution": {
     "iopub.execute_input": "2023-08-12T01:58:37.227742Z",
     "iopub.status.busy": "2023-08-12T01:58:37.227337Z",
     "iopub.status.idle": "2023-08-12T01:58:37.233449Z",
     "shell.execute_reply": "2023-08-12T01:58:37.232524Z"
    },
    "papermill": {
     "duration": 0.057415,
     "end_time": "2023-08-12T01:58:37.235810",
     "exception": false,
     "start_time": "2023-08-12T01:58:37.178395",
     "status": "completed"
    },
    "tags": []
   },
   "outputs": [],
   "source": [
    "df = df.rename(columns={\"ROM/Storage\":\"GB in ROM/Storage\"})"
   ]
  },
  {
   "cell_type": "code",
   "execution_count": 38,
   "id": "cb39a1e1",
   "metadata": {
    "execution": {
     "iopub.execute_input": "2023-08-12T01:58:37.334168Z",
     "iopub.status.busy": "2023-08-12T01:58:37.333770Z",
     "iopub.status.idle": "2023-08-12T01:58:37.342095Z",
     "shell.execute_reply": "2023-08-12T01:58:37.340904Z"
    },
    "papermill": {
     "duration": 0.061397,
     "end_time": "2023-08-12T01:58:37.344301",
     "exception": false,
     "start_time": "2023-08-12T01:58:37.282904",
     "status": "completed"
    },
    "tags": []
   },
   "outputs": [],
   "source": [
    "df = df.astype({\"GB in ROM/Storage\":\"int\"})"
   ]
  },
  {
   "cell_type": "code",
   "execution_count": 39,
   "id": "321ff42a",
   "metadata": {
    "execution": {
     "iopub.execute_input": "2023-08-12T01:58:37.440953Z",
     "iopub.status.busy": "2023-08-12T01:58:37.440220Z",
     "iopub.status.idle": "2023-08-12T01:58:37.617822Z",
     "shell.execute_reply": "2023-08-12T01:58:37.616602Z"
    },
    "papermill": {
     "duration": 0.228977,
     "end_time": "2023-08-12T01:58:37.620409",
     "exception": false,
     "start_time": "2023-08-12T01:58:37.391432",
     "status": "completed"
    },
    "tags": []
   },
   "outputs": [
    {
     "data": {
      "text/plain": [
       "<Axes: xlabel='GB in ROM/Storage'>"
      ]
     },
     "execution_count": 39,
     "metadata": {},
     "output_type": "execute_result"
    },
    {
     "data": {
      "image/png": "[encoded data removed]",
      "text/plain": [
       "<Figure size 1200x500 with 1 Axes>"
      ]
     },
     "metadata": {},
     "output_type": "display_data"
    }
   ],
   "source": [
    "plt.figure(figsize=(12,5))\n",
    "sns.boxplot(data=df, x=\"GB in ROM/Storage\")"
   ]
  },
  {
   "cell_type": "markdown",
   "id": "628b6f48",
   "metadata": {
    "papermill": {
     "duration": 0.047416,
     "end_time": "2023-08-12T01:58:37.715468",
     "exception": false,
     "start_time": "2023-08-12T01:58:37.668052",
     "status": "completed"
    },
    "tags": []
   },
   "source": [
    "Checking if there is any Battery who have other value than mAh"
   ]
  },
  {
   "cell_type": "code",
   "execution_count": 40,
   "id": "b6f9634f",
   "metadata": {
    "execution": {
     "iopub.execute_input": "2023-08-12T01:58:37.814499Z",
     "iopub.status.busy": "2023-08-12T01:58:37.814072Z",
     "iopub.status.idle": "2023-08-12T01:58:37.828869Z",
     "shell.execute_reply": "2023-08-12T01:58:37.827333Z"
    },
    "papermill": {
     "duration": 0.067071,
     "end_time": "2023-08-12T01:58:37.831143",
     "exception": false,
     "start_time": "2023-08-12T01:58:37.764072",
     "status": "completed"
    },
    "scrolled": true,
    "tags": []
   },
   "outputs": [
    {
     "data": {
      "text/html": [
       "<div>\n",
       "<style scoped>\n",
       "    .dataframe tbody tr th:only-of-type {\n",
       "        vertical-align: middle;\n",
       "    }\n",
       "\n",
       "    .dataframe tbody tr th {\n",
       "        vertical-align: top;\n",
       "    }\n",
       "\n",
       "    .dataframe thead th {\n",
       "        text-align: right;\n",
       "    }\n",
       "</style>\n",
       "<table border=\"1\" class=\"dataframe\">\n",
       "  <thead>\n",
       "    <tr style=\"text-align: right;\">\n",
       "      <th></th>\n",
       "      <th>Rating ?/5</th>\n",
       "      <th>Number of Ratings</th>\n",
       "      <th>GB of RAM</th>\n",
       "      <th>GB in ROM/Storage</th>\n",
       "      <th>Back/Rare Camera</th>\n",
       "      <th>Front Camera</th>\n",
       "      <th>Battery</th>\n",
       "      <th>Price in INR</th>\n",
       "    </tr>\n",
       "    <tr>\n",
       "      <th>Phone Name</th>\n",
       "      <th></th>\n",
       "      <th></th>\n",
       "      <th></th>\n",
       "      <th></th>\n",
       "      <th></th>\n",
       "      <th></th>\n",
       "      <th></th>\n",
       "      <th></th>\n",
       "    </tr>\n",
       "  </thead>\n",
       "  <tbody>\n",
       "  </tbody>\n",
       "</table>\n",
       "</div>"
      ],
      "text/plain": [
       "Empty DataFrame\n",
       "Columns: [Rating ?/5, Number of Ratings, GB of RAM, GB in ROM/Storage, Back/Rare Camera, Front Camera, Battery, Price in INR]\n",
       "Index: []"
      ]
     },
     "execution_count": 40,
     "metadata": {},
     "output_type": "execute_result"
    }
   ],
   "source": [
    "df.loc[~df[\"Battery\"].str.contains(\"mAh\")]"
   ]
  },
  {
   "cell_type": "markdown",
   "id": "d684c83a",
   "metadata": {
    "papermill": {
     "duration": 0.047698,
     "end_time": "2023-08-12T01:58:37.926603",
     "exception": false,
     "start_time": "2023-08-12T01:58:37.878905",
     "status": "completed"
    },
    "tags": []
   },
   "source": [
    "#### Making Battery as numeric column"
   ]
  },
  {
   "cell_type": "code",
   "execution_count": 41,
   "id": "232cc0d4",
   "metadata": {
    "execution": {
     "iopub.execute_input": "2023-08-12T01:58:38.024909Z",
     "iopub.status.busy": "2023-08-12T01:58:38.023665Z",
     "iopub.status.idle": "2023-08-12T01:58:38.033052Z",
     "shell.execute_reply": "2023-08-12T01:58:38.031976Z"
    },
    "papermill": {
     "duration": 0.061133,
     "end_time": "2023-08-12T01:58:38.035454",
     "exception": false,
     "start_time": "2023-08-12T01:58:37.974321",
     "status": "completed"
    },
    "tags": []
   },
   "outputs": [],
   "source": [
    "df[\"Battery\"] = df[\"Battery\"].str.replace('\\D', '', regex=True)"
   ]
  },
  {
   "cell_type": "code",
   "execution_count": 42,
   "id": "f758a5a5",
   "metadata": {
    "execution": {
     "iopub.execute_input": "2023-08-12T01:58:38.133174Z",
     "iopub.status.busy": "2023-08-12T01:58:38.132403Z",
     "iopub.status.idle": "2023-08-12T01:58:38.138170Z",
     "shell.execute_reply": "2023-08-12T01:58:38.137275Z"
    },
    "papermill": {
     "duration": 0.057044,
     "end_time": "2023-08-12T01:58:38.140407",
     "exception": false,
     "start_time": "2023-08-12T01:58:38.083363",
     "status": "completed"
    },
    "tags": []
   },
   "outputs": [],
   "source": [
    "df = df.rename(columns={\"Battery\":\"Battery mAh\"})"
   ]
  },
  {
   "cell_type": "code",
   "execution_count": 43,
   "id": "0ab52ddd",
   "metadata": {
    "execution": {
     "iopub.execute_input": "2023-08-12T01:58:38.237778Z",
     "iopub.status.busy": "2023-08-12T01:58:38.237082Z",
     "iopub.status.idle": "2023-08-12T01:58:38.245061Z",
     "shell.execute_reply": "2023-08-12T01:58:38.243975Z"
    },
    "papermill": {
     "duration": 0.059158,
     "end_time": "2023-08-12T01:58:38.247388",
     "exception": false,
     "start_time": "2023-08-12T01:58:38.188230",
     "status": "completed"
    },
    "tags": []
   },
   "outputs": [],
   "source": [
    "df = df.astype({\"Battery mAh\":\"int\"})"
   ]
  },
  {
   "cell_type": "code",
   "execution_count": 44,
   "id": "c645250d",
   "metadata": {
    "execution": {
     "iopub.execute_input": "2023-08-12T01:58:38.347071Z",
     "iopub.status.busy": "2023-08-12T01:58:38.346422Z",
     "iopub.status.idle": "2023-08-12T01:58:38.529329Z",
     "shell.execute_reply": "2023-08-12T01:58:38.528307Z"
    },
    "papermill": {
     "duration": 0.235354,
     "end_time": "2023-08-12T01:58:38.531940",
     "exception": false,
     "start_time": "2023-08-12T01:58:38.296586",
     "status": "completed"
    },
    "tags": []
   },
   "outputs": [
    {
     "data": {
      "text/plain": [
       "<Axes: xlabel='Battery mAh'>"
      ]
     },
     "execution_count": 44,
     "metadata": {},
     "output_type": "execute_result"
    },
    {
     "data": {
      "image/png": "[encoded data removed]",
      "text/plain": [
       "<Figure size 1200x500 with 1 Axes>"
      ]
     },
     "metadata": {},
     "output_type": "display_data"
    }
   ],
   "source": [
    "plt.figure(figsize=(12,5))\n",
    "sns.boxplot(data=df, x=\"Battery mAh\")"
   ]
  },
  {
   "cell_type": "markdown",
   "id": "a7c9e083",
   "metadata": {
    "papermill": {
     "duration": 0.048476,
     "end_time": "2023-08-12T01:58:38.629102",
     "exception": false,
     "start_time": "2023-08-12T01:58:38.580626",
     "status": "completed"
    },
    "tags": []
   },
   "source": [
    "Remove low Battery value"
   ]
  },
  {
   "cell_type": "code",
   "execution_count": 45,
   "id": "4c1a8ba3",
   "metadata": {
    "execution": {
     "iopub.execute_input": "2023-08-12T01:58:38.727140Z",
     "iopub.status.busy": "2023-08-12T01:58:38.726354Z",
     "iopub.status.idle": "2023-08-12T01:58:38.733079Z",
     "shell.execute_reply": "2023-08-12T01:58:38.732214Z"
    },
    "papermill": {
     "duration": 0.058556,
     "end_time": "2023-08-12T01:58:38.735280",
     "exception": false,
     "start_time": "2023-08-12T01:58:38.676724",
     "status": "completed"
    },
    "tags": []
   },
   "outputs": [],
   "source": [
    "df = df.drop(df[df[\"Battery mAh\"]<1000].index, axis=0)"
   ]
  },
  {
   "cell_type": "code",
   "execution_count": 46,
   "id": "09b33889",
   "metadata": {
    "execution": {
     "iopub.execute_input": "2023-08-12T01:58:38.833489Z",
     "iopub.status.busy": "2023-08-12T01:58:38.832753Z",
     "iopub.status.idle": "2023-08-12T01:58:39.066033Z",
     "shell.execute_reply": "2023-08-12T01:58:39.064695Z"
    },
    "papermill": {
     "duration": 0.285998,
     "end_time": "2023-08-12T01:58:39.068658",
     "exception": false,
     "start_time": "2023-08-12T01:58:38.782660",
     "status": "completed"
    },
    "tags": []
   },
   "outputs": [
    {
     "data": {
      "text/plain": [
       "<Axes: xlabel='Battery mAh'>"
      ]
     },
     "execution_count": 46,
     "metadata": {},
     "output_type": "execute_result"
    },
    {
     "data": {
      "image/png": "[encoded data removed]",
      "text/plain": [
       "<Figure size 1200x500 with 1 Axes>"
      ]
     },
     "metadata": {},
     "output_type": "display_data"
    }
   ],
   "source": [
    "plt.figure(figsize=(12,5))\n",
    "sns.boxplot(data=df, x=\"Battery mAh\")"
   ]
  },
  {
   "cell_type": "markdown",
   "id": "faa0a19e",
   "metadata": {
    "papermill": {
     "duration": 0.047966,
     "end_time": "2023-08-12T01:58:39.165211",
     "exception": false,
     "start_time": "2023-08-12T01:58:39.117245",
     "status": "completed"
    },
    "tags": []
   },
   "source": [
    "#### Making Back/Rare Camera and Front Camera as numeric column"
   ]
  },
  {
   "cell_type": "markdown",
   "id": "e927c059",
   "metadata": {
    "papermill": {
     "duration": 0.047859,
     "end_time": "2023-08-12T01:58:39.261605",
     "exception": false,
     "start_time": "2023-08-12T01:58:39.213746",
     "status": "completed"
    },
    "tags": []
   },
   "source": [
    "Taking 2 first characters from row"
   ]
  },
  {
   "cell_type": "code",
   "execution_count": 47,
   "id": "31550a93",
   "metadata": {
    "execution": {
     "iopub.execute_input": "2023-08-12T01:58:39.363772Z",
     "iopub.status.busy": "2023-08-12T01:58:39.362985Z",
     "iopub.status.idle": "2023-08-12T01:58:39.371118Z",
     "shell.execute_reply": "2023-08-12T01:58:39.370063Z"
    },
    "papermill": {
     "duration": 0.060132,
     "end_time": "2023-08-12T01:58:39.373440",
     "exception": false,
     "start_time": "2023-08-12T01:58:39.313308",
     "status": "completed"
    },
    "tags": []
   },
   "outputs": [],
   "source": [
    "df[\"Front Camera\"] = df[\"Front Camera\"].str[:2]\n",
    "df[\"Back/Rare Camera\"] = df[\"Back/Rare Camera\"].str[:2]"
   ]
  },
  {
   "cell_type": "markdown",
   "id": "48045bb2",
   "metadata": {
    "papermill": {
     "duration": 0.04839,
     "end_time": "2023-08-12T01:58:39.469915",
     "exception": false,
     "start_time": "2023-08-12T01:58:39.421525",
     "status": "completed"
    },
    "tags": []
   },
   "source": [
    "Removing letters"
   ]
  },
  {
   "cell_type": "code",
   "execution_count": 48,
   "id": "bb5b600d",
   "metadata": {
    "execution": {
     "iopub.execute_input": "2023-08-12T01:58:39.568692Z",
     "iopub.status.busy": "2023-08-12T01:58:39.568050Z",
     "iopub.status.idle": "2023-08-12T01:58:39.577441Z",
     "shell.execute_reply": "2023-08-12T01:58:39.576492Z"
    },
    "papermill": {
     "duration": 0.062003,
     "end_time": "2023-08-12T01:58:39.580134",
     "exception": false,
     "start_time": "2023-08-12T01:58:39.518131",
     "status": "completed"
    },
    "tags": []
   },
   "outputs": [],
   "source": [
    "df[\"Front Camera\"] = df[\"Front Camera\"].str.replace('\\D', '', regex=True)\n",
    "df[\"Back/Rare Camera\"] = df[\"Back/Rare Camera\"].str.replace('\\D', '', regex=True)"
   ]
  },
  {
   "cell_type": "code",
   "execution_count": 49,
   "id": "a7c68aff",
   "metadata": {
    "execution": {
     "iopub.execute_input": "2023-08-12T01:58:39.679343Z",
     "iopub.status.busy": "2023-08-12T01:58:39.678679Z",
     "iopub.status.idle": "2023-08-12T01:58:39.684483Z",
     "shell.execute_reply": "2023-08-12T01:58:39.683620Z"
    },
    "papermill": {
     "duration": 0.058404,
     "end_time": "2023-08-12T01:58:39.686826",
     "exception": false,
     "start_time": "2023-08-12T01:58:39.628422",
     "status": "completed"
    },
    "tags": []
   },
   "outputs": [],
   "source": [
    "df = df.rename(columns={\"Front Camera\":\"Front Camera MP\",\"Back/Rare Camera\":\"Back/Rare Camera MP\" })"
   ]
  },
  {
   "cell_type": "code",
   "execution_count": 50,
   "id": "ae5071c2",
   "metadata": {
    "execution": {
     "iopub.execute_input": "2023-08-12T01:58:39.786448Z",
     "iopub.status.busy": "2023-08-12T01:58:39.785663Z",
     "iopub.status.idle": "2023-08-12T01:58:39.796450Z",
     "shell.execute_reply": "2023-08-12T01:58:39.795080Z"
    },
    "papermill": {
     "duration": 0.064243,
     "end_time": "2023-08-12T01:58:39.799472",
     "exception": false,
     "start_time": "2023-08-12T01:58:39.735229",
     "status": "completed"
    },
    "tags": []
   },
   "outputs": [],
   "source": [
    "df = df.astype({\"Back/Rare Camera MP\":\"int\",  \"Front Camera MP\":\"int\",  })"
   ]
  },
  {
   "cell_type": "markdown",
   "id": "0b2f7d5c",
   "metadata": {
    "papermill": {
     "duration": 0.048152,
     "end_time": "2023-08-12T01:58:39.900700",
     "exception": false,
     "start_time": "2023-08-12T01:58:39.852548",
     "status": "completed"
    },
    "tags": []
   },
   "source": [
    "#### Making Price in INR as numeric column"
   ]
  },
  {
   "cell_type": "code",
   "execution_count": 51,
   "id": "d9a38d9c",
   "metadata": {
    "execution": {
     "iopub.execute_input": "2023-08-12T01:58:39.999508Z",
     "iopub.status.busy": "2023-08-12T01:58:39.999103Z",
     "iopub.status.idle": "2023-08-12T01:58:40.007553Z",
     "shell.execute_reply": "2023-08-12T01:58:40.006203Z"
    },
    "papermill": {
     "duration": 0.061184,
     "end_time": "2023-08-12T01:58:40.010003",
     "exception": false,
     "start_time": "2023-08-12T01:58:39.948819",
     "status": "completed"
    },
    "tags": []
   },
   "outputs": [],
   "source": [
    "df[\"Price in INR\"] = df[\"Price in INR\"].str.replace('\\D', '', regex=True)"
   ]
  },
  {
   "cell_type": "code",
   "execution_count": 52,
   "id": "4b4d704f",
   "metadata": {
    "execution": {
     "iopub.execute_input": "2023-08-12T01:58:40.110192Z",
     "iopub.status.busy": "2023-08-12T01:58:40.109779Z",
     "iopub.status.idle": "2023-08-12T01:58:40.118455Z",
     "shell.execute_reply": "2023-08-12T01:58:40.117032Z"
    },
    "papermill": {
     "duration": 0.061677,
     "end_time": "2023-08-12T01:58:40.121017",
     "exception": false,
     "start_time": "2023-08-12T01:58:40.059340",
     "status": "completed"
    },
    "tags": []
   },
   "outputs": [],
   "source": [
    "df = df.astype({\"Price in INR\":\"int\"})"
   ]
  },
  {
   "cell_type": "code",
   "execution_count": 53,
   "id": "43ec5b3c",
   "metadata": {
    "execution": {
     "iopub.execute_input": "2023-08-12T01:58:40.219696Z",
     "iopub.status.busy": "2023-08-12T01:58:40.219310Z",
     "iopub.status.idle": "2023-08-12T01:58:40.232482Z",
     "shell.execute_reply": "2023-08-12T01:58:40.231191Z"
    },
    "papermill": {
     "duration": 0.065853,
     "end_time": "2023-08-12T01:58:40.235219",
     "exception": false,
     "start_time": "2023-08-12T01:58:40.169366",
     "status": "completed"
    },
    "tags": []
   },
   "outputs": [
    {
     "name": "stdout",
     "output_type": "stream",
     "text": [
      "<class 'pandas.core.frame.DataFrame'>\n",
      "Index: 1186 entries, POCO C50 (Royal Blue, 32 GB) to Infinix S5 (Quetzal Cyan, 64 GB)\n",
      "Data columns (total 8 columns):\n",
      " #   Column               Non-Null Count  Dtype  \n",
      "---  ------               --------------  -----  \n",
      " 0   Rating ?/5           1186 non-null   float64\n",
      " 1   Number of Ratings    1186 non-null   float64\n",
      " 2   GB of RAM            1186 non-null   int32  \n",
      " 3   GB in ROM/Storage    1186 non-null   int32  \n",
      " 4   Back/Rare Camera MP  1186 non-null   int32  \n",
      " 5   Front Camera MP      1186 non-null   int32  \n",
      " 6   Battery mAh          1186 non-null   int32  \n",
      " 7   Price in INR         1186 non-null   int32  \n",
      "dtypes: float64(2), int32(6)\n",
      "memory usage: 55.6+ KB\n"
     ]
    }
   ],
   "source": [
    "df.info()"
   ]
  },
  {
   "cell_type": "markdown",
   "id": "8bf48e19",
   "metadata": {
    "papermill": {
     "duration": 0.048413,
     "end_time": "2023-08-12T01:58:40.546223",
     "exception": false,
     "start_time": "2023-08-12T01:58:40.497810",
     "status": "completed"
    },
    "tags": []
   },
   "source": [
    "### Checking Data"
   ]
  },
  {
   "cell_type": "code",
   "execution_count": 54,
   "id": "59d9b5ab",
   "metadata": {
    "execution": {
     "iopub.execute_input": "2023-08-12T01:58:40.647427Z",
     "iopub.status.busy": "2023-08-12T01:58:40.647017Z",
     "iopub.status.idle": "2023-08-12T01:58:40.668925Z",
     "shell.execute_reply": "2023-08-12T01:58:40.667508Z"
    },
    "papermill": {
     "duration": 0.075589,
     "end_time": "2023-08-12T01:58:40.671260",
     "exception": false,
     "start_time": "2023-08-12T01:58:40.595671",
     "status": "completed"
    },
    "tags": []
   },
   "outputs": [
    {
     "data": {
      "text/html": [
       "<div>\n",
       "<style scoped>\n",
       "    .dataframe tbody tr th:only-of-type {\n",
       "        vertical-align: middle;\n",
       "    }\n",
       "\n",
       "    .dataframe tbody tr th {\n",
       "        vertical-align: top;\n",
       "    }\n",
       "\n",
       "    .dataframe thead th {\n",
       "        text-align: right;\n",
       "    }\n",
       "</style>\n",
       "<table border=\"1\" class=\"dataframe\">\n",
       "  <thead>\n",
       "    <tr style=\"text-align: right;\">\n",
       "      <th></th>\n",
       "      <th>Rating ?/5</th>\n",
       "      <th>Number of Ratings</th>\n",
       "      <th>GB of RAM</th>\n",
       "      <th>GB in ROM/Storage</th>\n",
       "      <th>Back/Rare Camera MP</th>\n",
       "      <th>Front Camera MP</th>\n",
       "      <th>Battery mAh</th>\n",
       "      <th>Price in INR</th>\n",
       "    </tr>\n",
       "    <tr>\n",
       "      <th>Phone Name</th>\n",
       "      <th></th>\n",
       "      <th></th>\n",
       "      <th></th>\n",
       "      <th></th>\n",
       "      <th></th>\n",
       "      <th></th>\n",
       "      <th></th>\n",
       "      <th></th>\n",
       "    </tr>\n",
       "  </thead>\n",
       "  <tbody>\n",
       "    <tr>\n",
       "      <th>POCO C50 (Royal Blue, 32 GB)</th>\n",
       "      <td>4.2</td>\n",
       "      <td>33561.0</td>\n",
       "      <td>2</td>\n",
       "      <td>32</td>\n",
       "      <td>8</td>\n",
       "      <td>5</td>\n",
       "      <td>5000</td>\n",
       "      <td>5649</td>\n",
       "    </tr>\n",
       "    <tr>\n",
       "      <th>POCO M4 5G (Cool Blue, 64 GB)</th>\n",
       "      <td>4.2</td>\n",
       "      <td>77128.0</td>\n",
       "      <td>4</td>\n",
       "      <td>64</td>\n",
       "      <td>50</td>\n",
       "      <td>8</td>\n",
       "      <td>5000</td>\n",
       "      <td>11999</td>\n",
       "    </tr>\n",
       "    <tr>\n",
       "      <th>POCO C51 (Royal Blue, 64 GB)</th>\n",
       "      <td>4.3</td>\n",
       "      <td>15175.0</td>\n",
       "      <td>4</td>\n",
       "      <td>64</td>\n",
       "      <td>8</td>\n",
       "      <td>5</td>\n",
       "      <td>5000</td>\n",
       "      <td>6999</td>\n",
       "    </tr>\n",
       "    <tr>\n",
       "      <th>POCO C55 (Cool Blue, 64 GB)</th>\n",
       "      <td>4.2</td>\n",
       "      <td>22621.0</td>\n",
       "      <td>4</td>\n",
       "      <td>64</td>\n",
       "      <td>50</td>\n",
       "      <td>5</td>\n",
       "      <td>5000</td>\n",
       "      <td>7749</td>\n",
       "    </tr>\n",
       "    <tr>\n",
       "      <th>POCO C51 (Power Black, 64 GB)</th>\n",
       "      <td>4.3</td>\n",
       "      <td>15175.0</td>\n",
       "      <td>4</td>\n",
       "      <td>64</td>\n",
       "      <td>8</td>\n",
       "      <td>5</td>\n",
       "      <td>5000</td>\n",
       "      <td>6999</td>\n",
       "    </tr>\n",
       "    <tr>\n",
       "      <th>...</th>\n",
       "      <td>...</td>\n",
       "      <td>...</td>\n",
       "      <td>...</td>\n",
       "      <td>...</td>\n",
       "      <td>...</td>\n",
       "      <td>...</td>\n",
       "      <td>...</td>\n",
       "      <td>...</td>\n",
       "    </tr>\n",
       "    <tr>\n",
       "      <th>Infinix Note 7 (Forest Green, 64 GB)</th>\n",
       "      <td>4.3</td>\n",
       "      <td>25582.0</td>\n",
       "      <td>4</td>\n",
       "      <td>64</td>\n",
       "      <td>48</td>\n",
       "      <td>16</td>\n",
       "      <td>5000</td>\n",
       "      <td>14999</td>\n",
       "    </tr>\n",
       "    <tr>\n",
       "      <th>Infinix Note 7 (Bolivia Blue, 64 GB)</th>\n",
       "      <td>4.3</td>\n",
       "      <td>25582.0</td>\n",
       "      <td>4</td>\n",
       "      <td>64</td>\n",
       "      <td>48</td>\n",
       "      <td>16</td>\n",
       "      <td>5000</td>\n",
       "      <td>14999</td>\n",
       "    </tr>\n",
       "    <tr>\n",
       "      <th>Infinix Note 7 (Aether Black, 64 GB)</th>\n",
       "      <td>4.3</td>\n",
       "      <td>25582.0</td>\n",
       "      <td>4</td>\n",
       "      <td>64</td>\n",
       "      <td>48</td>\n",
       "      <td>16</td>\n",
       "      <td>5000</td>\n",
       "      <td>14999</td>\n",
       "    </tr>\n",
       "    <tr>\n",
       "      <th>Infinix Zero 8i (Silver Diamond, 128 GB)</th>\n",
       "      <td>4.2</td>\n",
       "      <td>7117.0</td>\n",
       "      <td>8</td>\n",
       "      <td>128</td>\n",
       "      <td>48</td>\n",
       "      <td>16</td>\n",
       "      <td>4500</td>\n",
       "      <td>18999</td>\n",
       "    </tr>\n",
       "    <tr>\n",
       "      <th>Infinix S5 (Quetzal Cyan, 64 GB)</th>\n",
       "      <td>4.3</td>\n",
       "      <td>15701.0</td>\n",
       "      <td>4</td>\n",
       "      <td>64</td>\n",
       "      <td>16</td>\n",
       "      <td>32</td>\n",
       "      <td>4000</td>\n",
       "      <td>10999</td>\n",
       "    </tr>\n",
       "  </tbody>\n",
       "</table>\n",
       "<p>1186 rows × 8 columns</p>\n",
       "</div>"
      ],
      "text/plain": [
       "                                          Rating ?/5  Number of Ratings  \\\n",
       "Phone Name                                                                \n",
       "POCO C50 (Royal Blue, 32 GB)                     4.2            33561.0   \n",
       "POCO M4 5G (Cool Blue, 64 GB)                    4.2            77128.0   \n",
       "POCO C51 (Royal Blue, 64 GB)                     4.3            15175.0   \n",
       "POCO C55 (Cool Blue, 64 GB)                      4.2            22621.0   \n",
       "POCO C51 (Power Black, 64 GB)                    4.3            15175.0   \n",
       "...                                              ...                ...   \n",
       "Infinix Note 7 (Forest Green, 64 GB)             4.3            25582.0   \n",
       "Infinix Note 7 (Bolivia Blue, 64 GB)             4.3            25582.0   \n",
       "Infinix Note 7 (Aether Black, 64 GB)             4.3            25582.0   \n",
       "Infinix Zero 8i (Silver Diamond, 128 GB)         4.2             7117.0   \n",
       "Infinix S5 (Quetzal Cyan, 64 GB)                 4.3            15701.0   \n",
       "\n",
       "                                          GB of RAM  GB in ROM/Storage  \\\n",
       "Phone Name                                                               \n",
       "POCO C50 (Royal Blue, 32 GB)                      2                 32   \n",
       "POCO M4 5G (Cool Blue, 64 GB)                     4                 64   \n",
       "POCO C51 (Royal Blue, 64 GB)                      4                 64   \n",
       "POCO C55 (Cool Blue, 64 GB)                       4                 64   \n",
       "POCO C51 (Power Black, 64 GB)                     4                 64   \n",
       "...                                             ...                ...   \n",
       "Infinix Note 7 (Forest Green, 64 GB)              4                 64   \n",
       "Infinix Note 7 (Bolivia Blue, 64 GB)              4                 64   \n",
       "Infinix Note 7 (Aether Black, 64 GB)              4                 64   \n",
       "Infinix Zero 8i (Silver Diamond, 128 GB)          8                128   \n",
       "Infinix S5 (Quetzal Cyan, 64 GB)                  4                 64   \n",
       "\n",
       "                                          Back/Rare Camera MP  \\\n",
       "Phone Name                                                      \n",
       "POCO C50 (Royal Blue, 32 GB)                                8   \n",
       "POCO M4 5G (Cool Blue, 64 GB)                              50   \n",
       "POCO C51 (Royal Blue, 64 GB)                                8   \n",
       "POCO C55 (Cool Blue, 64 GB)                                50   \n",
       "POCO C51 (Power Black, 64 GB)                               8   \n",
       "...                                                       ...   \n",
       "Infinix Note 7 (Forest Green, 64 GB)                       48   \n",
       "Infinix Note 7 (Bolivia Blue, 64 GB)                       48   \n",
       "Infinix Note 7 (Aether Black, 64 GB)                       48   \n",
       "Infinix Zero 8i (Silver Diamond, 128 GB)                   48   \n",
       "Infinix S5 (Quetzal Cyan, 64 GB)                           16   \n",
       "\n",
       "                                          Front Camera MP  Battery mAh  \\\n",
       "Phone Name                                                               \n",
       "POCO C50 (Royal Blue, 32 GB)                            5         5000   \n",
       "POCO M4 5G (Cool Blue, 64 GB)                           8         5000   \n",
       "POCO C51 (Royal Blue, 64 GB)                            5         5000   \n",
       "POCO C55 (Cool Blue, 64 GB)                             5         5000   \n",
       "POCO C51 (Power Black, 64 GB)                           5         5000   \n",
       "...                                                   ...          ...   \n",
       "Infinix Note 7 (Forest Green, 64 GB)                   16         5000   \n",
       "Infinix Note 7 (Bolivia Blue, 64 GB)                   16         5000   \n",
       "Infinix Note 7 (Aether Black, 64 GB)                   16         5000   \n",
       "Infinix Zero 8i (Silver Diamond, 128 GB)               16         4500   \n",
       "Infinix S5 (Quetzal Cyan, 64 GB)                       32         4000   \n",
       "\n",
       "                                          Price in INR  \n",
       "Phone Name                                              \n",
       "POCO C50 (Royal Blue, 32 GB)                      5649  \n",
       "POCO M4 5G (Cool Blue, 64 GB)                    11999  \n",
       "POCO C51 (Royal Blue, 64 GB)                      6999  \n",
       "POCO C55 (Cool Blue, 64 GB)                       7749  \n",
       "POCO C51 (Power Black, 64 GB)                     6999  \n",
       "...                                                ...  \n",
       "Infinix Note 7 (Forest Green, 64 GB)             14999  \n",
       "Infinix Note 7 (Bolivia Blue, 64 GB)             14999  \n",
       "Infinix Note 7 (Aether Black, 64 GB)             14999  \n",
       "Infinix Zero 8i (Silver Diamond, 128 GB)         18999  \n",
       "Infinix S5 (Quetzal Cyan, 64 GB)                 10999  \n",
       "\n",
       "[1186 rows x 8 columns]"
      ]
     },
     "execution_count": 54,
     "metadata": {},
     "output_type": "execute_result"
    }
   ],
   "source": [
    "df"
   ]
  },
  {
   "cell_type": "code",
   "execution_count": 55,
   "id": "59167ba4",
   "metadata": {
    "execution": {
     "iopub.execute_input": "2023-08-12T01:58:40.772360Z",
     "iopub.status.busy": "2023-08-12T01:58:40.771962Z",
     "iopub.status.idle": "2023-08-12T01:58:40.792158Z",
     "shell.execute_reply": "2023-08-12T01:58:40.790928Z"
    },
    "papermill": {
     "duration": 0.073437,
     "end_time": "2023-08-12T01:58:40.794676",
     "exception": false,
     "start_time": "2023-08-12T01:58:40.721239",
     "status": "completed"
    },
    "tags": []
   },
   "outputs": [
    {
     "data": {
      "text/html": [
       "<div>\n",
       "<style scoped>\n",
       "    .dataframe tbody tr th:only-of-type {\n",
       "        vertical-align: middle;\n",
       "    }\n",
       "\n",
       "    .dataframe tbody tr th {\n",
       "        vertical-align: top;\n",
       "    }\n",
       "\n",
       "    .dataframe thead th {\n",
       "        text-align: right;\n",
       "    }\n",
       "</style>\n",
       "<table border=\"1\" class=\"dataframe\">\n",
       "  <thead>\n",
       "    <tr style=\"text-align: right;\">\n",
       "      <th></th>\n",
       "      <th>Rating ?/5</th>\n",
       "      <th>Number of Ratings</th>\n",
       "      <th>GB of RAM</th>\n",
       "      <th>GB in ROM/Storage</th>\n",
       "      <th>Back/Rare Camera MP</th>\n",
       "      <th>Front Camera MP</th>\n",
       "      <th>Battery mAh</th>\n",
       "      <th>Price in INR</th>\n",
       "    </tr>\n",
       "  </thead>\n",
       "  <tbody>\n",
       "    <tr>\n",
       "      <th>Rating ?/5</th>\n",
       "      <td>1.000000</td>\n",
       "      <td>0.231468</td>\n",
       "      <td>0.116812</td>\n",
       "      <td>0.125731</td>\n",
       "      <td>0.100949</td>\n",
       "      <td>0.147200</td>\n",
       "      <td>0.046190</td>\n",
       "      <td>0.163021</td>\n",
       "    </tr>\n",
       "    <tr>\n",
       "      <th>Number of Ratings</th>\n",
       "      <td>0.231468</td>\n",
       "      <td>1.000000</td>\n",
       "      <td>-0.286304</td>\n",
       "      <td>-0.272825</td>\n",
       "      <td>-0.129289</td>\n",
       "      <td>-0.055876</td>\n",
       "      <td>-0.002221</td>\n",
       "      <td>-0.236582</td>\n",
       "    </tr>\n",
       "    <tr>\n",
       "      <th>GB of RAM</th>\n",
       "      <td>0.116812</td>\n",
       "      <td>-0.286304</td>\n",
       "      <td>1.000000</td>\n",
       "      <td>0.824572</td>\n",
       "      <td>0.506253</td>\n",
       "      <td>0.410224</td>\n",
       "      <td>0.082018</td>\n",
       "      <td>0.678678</td>\n",
       "    </tr>\n",
       "    <tr>\n",
       "      <th>GB in ROM/Storage</th>\n",
       "      <td>0.125731</td>\n",
       "      <td>-0.272825</td>\n",
       "      <td>0.824572</td>\n",
       "      <td>1.000000</td>\n",
       "      <td>0.432389</td>\n",
       "      <td>0.339131</td>\n",
       "      <td>0.093912</td>\n",
       "      <td>0.697697</td>\n",
       "    </tr>\n",
       "    <tr>\n",
       "      <th>Back/Rare Camera MP</th>\n",
       "      <td>0.100949</td>\n",
       "      <td>-0.129289</td>\n",
       "      <td>0.506253</td>\n",
       "      <td>0.432389</td>\n",
       "      <td>1.000000</td>\n",
       "      <td>0.275778</td>\n",
       "      <td>0.222110</td>\n",
       "      <td>0.247359</td>\n",
       "    </tr>\n",
       "    <tr>\n",
       "      <th>Front Camera MP</th>\n",
       "      <td>0.147200</td>\n",
       "      <td>-0.055876</td>\n",
       "      <td>0.410224</td>\n",
       "      <td>0.339131</td>\n",
       "      <td>0.275778</td>\n",
       "      <td>1.000000</td>\n",
       "      <td>-0.119062</td>\n",
       "      <td>0.304417</td>\n",
       "    </tr>\n",
       "    <tr>\n",
       "      <th>Battery mAh</th>\n",
       "      <td>0.046190</td>\n",
       "      <td>-0.002221</td>\n",
       "      <td>0.082018</td>\n",
       "      <td>0.093912</td>\n",
       "      <td>0.222110</td>\n",
       "      <td>-0.119062</td>\n",
       "      <td>1.000000</td>\n",
       "      <td>-0.137245</td>\n",
       "    </tr>\n",
       "    <tr>\n",
       "      <th>Price in INR</th>\n",
       "      <td>0.163021</td>\n",
       "      <td>-0.236582</td>\n",
       "      <td>0.678678</td>\n",
       "      <td>0.697697</td>\n",
       "      <td>0.247359</td>\n",
       "      <td>0.304417</td>\n",
       "      <td>-0.137245</td>\n",
       "      <td>1.000000</td>\n",
       "    </tr>\n",
       "  </tbody>\n",
       "</table>\n",
       "</div>"
      ],
      "text/plain": [
       "                     Rating ?/5  Number of Ratings  GB of RAM  \\\n",
       "Rating ?/5             1.000000           0.231468   0.116812   \n",
       "Number of Ratings      0.231468           1.000000  -0.286304   \n",
       "GB of RAM              0.116812          -0.286304   1.000000   \n",
       "GB in ROM/Storage      0.125731          -0.272825   0.824572   \n",
       "Back/Rare Camera MP    0.100949          -0.129289   0.506253   \n",
       "Front Camera MP        0.147200          -0.055876   0.410224   \n",
       "Battery mAh            0.046190          -0.002221   0.082018   \n",
       "Price in INR           0.163021          -0.236582   0.678678   \n",
       "\n",
       "                     GB in ROM/Storage  Back/Rare Camera MP  Front Camera MP  \\\n",
       "Rating ?/5                    0.125731             0.100949         0.147200   \n",
       "Number of Ratings            -0.272825            -0.129289        -0.055876   \n",
       "GB of RAM                     0.824572             0.506253         0.410224   \n",
       "GB in ROM/Storage             1.000000             0.432389         0.339131   \n",
       "Back/Rare Camera MP           0.432389             1.000000         0.275778   \n",
       "Front Camera MP               0.339131             0.275778         1.000000   \n",
       "Battery mAh                   0.093912             0.222110        -0.119062   \n",
       "Price in INR                  0.697697             0.247359         0.304417   \n",
       "\n",
       "                     Battery mAh  Price in INR  \n",
       "Rating ?/5              0.046190      0.163021  \n",
       "Number of Ratings      -0.002221     -0.236582  \n",
       "GB of RAM               0.082018      0.678678  \n",
       "GB in ROM/Storage       0.093912      0.697697  \n",
       "Back/Rare Camera MP     0.222110      0.247359  \n",
       "Front Camera MP        -0.119062      0.304417  \n",
       "Battery mAh             1.000000     -0.137245  \n",
       "Price in INR           -0.137245      1.000000  "
      ]
     },
     "execution_count": 55,
     "metadata": {},
     "output_type": "execute_result"
    }
   ],
   "source": [
    "df.corr()"
   ]
  },
  {
   "cell_type": "markdown",
   "id": "106da8f3",
   "metadata": {
    "papermill": {
     "duration": 0.049256,
     "end_time": "2023-08-12T01:58:40.893498",
     "exception": false,
     "start_time": "2023-08-12T01:58:40.844242",
     "status": "completed"
    },
    "tags": []
   },
   "source": [
    "Drop column Number of Rating because almost every where have nagative correlation"
   ]
  },
  {
   "cell_type": "code",
   "execution_count": 56,
   "id": "61e98c29",
   "metadata": {
    "execution": {
     "iopub.execute_input": "2023-08-12T01:58:40.996163Z",
     "iopub.status.busy": "2023-08-12T01:58:40.995761Z",
     "iopub.status.idle": "2023-08-12T01:58:41.001861Z",
     "shell.execute_reply": "2023-08-12T01:58:41.000925Z"
    },
    "papermill": {
     "duration": 0.0607,
     "end_time": "2023-08-12T01:58:41.004135",
     "exception": false,
     "start_time": "2023-08-12T01:58:40.943435",
     "status": "completed"
    },
    "tags": []
   },
   "outputs": [],
   "source": [
    "df = df.drop(\"Number of Ratings\", axis=1)"
   ]
  },
  {
   "cell_type": "code",
   "execution_count": 57,
   "id": "4a1be686",
   "metadata": {
    "execution": {
     "iopub.execute_input": "2023-08-12T01:58:41.106839Z",
     "iopub.status.busy": "2023-08-12T01:58:41.106048Z",
     "iopub.status.idle": "2023-08-12T01:58:41.123403Z",
     "shell.execute_reply": "2023-08-12T01:58:41.122592Z"
    },
    "papermill": {
     "duration": 0.071434,
     "end_time": "2023-08-12T01:58:41.125623",
     "exception": false,
     "start_time": "2023-08-12T01:58:41.054189",
     "status": "completed"
    },
    "tags": []
   },
   "outputs": [
    {
     "data": {
      "text/html": [
       "<div>\n",
       "<style scoped>\n",
       "    .dataframe tbody tr th:only-of-type {\n",
       "        vertical-align: middle;\n",
       "    }\n",
       "\n",
       "    .dataframe tbody tr th {\n",
       "        vertical-align: top;\n",
       "    }\n",
       "\n",
       "    .dataframe thead th {\n",
       "        text-align: right;\n",
       "    }\n",
       "</style>\n",
       "<table border=\"1\" class=\"dataframe\">\n",
       "  <thead>\n",
       "    <tr style=\"text-align: right;\">\n",
       "      <th></th>\n",
       "      <th>Rating ?/5</th>\n",
       "      <th>GB of RAM</th>\n",
       "      <th>GB in ROM/Storage</th>\n",
       "      <th>Back/Rare Camera MP</th>\n",
       "      <th>Front Camera MP</th>\n",
       "      <th>Battery mAh</th>\n",
       "      <th>Price in INR</th>\n",
       "    </tr>\n",
       "    <tr>\n",
       "      <th>Phone Name</th>\n",
       "      <th></th>\n",
       "      <th></th>\n",
       "      <th></th>\n",
       "      <th></th>\n",
       "      <th></th>\n",
       "      <th></th>\n",
       "      <th></th>\n",
       "    </tr>\n",
       "  </thead>\n",
       "  <tbody>\n",
       "    <tr>\n",
       "      <th>POCO C50 (Royal Blue, 32 GB)</th>\n",
       "      <td>4.2</td>\n",
       "      <td>2</td>\n",
       "      <td>32</td>\n",
       "      <td>8</td>\n",
       "      <td>5</td>\n",
       "      <td>5000</td>\n",
       "      <td>5649</td>\n",
       "    </tr>\n",
       "    <tr>\n",
       "      <th>POCO M4 5G (Cool Blue, 64 GB)</th>\n",
       "      <td>4.2</td>\n",
       "      <td>4</td>\n",
       "      <td>64</td>\n",
       "      <td>50</td>\n",
       "      <td>8</td>\n",
       "      <td>5000</td>\n",
       "      <td>11999</td>\n",
       "    </tr>\n",
       "    <tr>\n",
       "      <th>POCO C51 (Royal Blue, 64 GB)</th>\n",
       "      <td>4.3</td>\n",
       "      <td>4</td>\n",
       "      <td>64</td>\n",
       "      <td>8</td>\n",
       "      <td>5</td>\n",
       "      <td>5000</td>\n",
       "      <td>6999</td>\n",
       "    </tr>\n",
       "    <tr>\n",
       "      <th>POCO C55 (Cool Blue, 64 GB)</th>\n",
       "      <td>4.2</td>\n",
       "      <td>4</td>\n",
       "      <td>64</td>\n",
       "      <td>50</td>\n",
       "      <td>5</td>\n",
       "      <td>5000</td>\n",
       "      <td>7749</td>\n",
       "    </tr>\n",
       "    <tr>\n",
       "      <th>POCO C51 (Power Black, 64 GB)</th>\n",
       "      <td>4.3</td>\n",
       "      <td>4</td>\n",
       "      <td>64</td>\n",
       "      <td>8</td>\n",
       "      <td>5</td>\n",
       "      <td>5000</td>\n",
       "      <td>6999</td>\n",
       "    </tr>\n",
       "    <tr>\n",
       "      <th>...</th>\n",
       "      <td>...</td>\n",
       "      <td>...</td>\n",
       "      <td>...</td>\n",
       "      <td>...</td>\n",
       "      <td>...</td>\n",
       "      <td>...</td>\n",
       "      <td>...</td>\n",
       "    </tr>\n",
       "    <tr>\n",
       "      <th>Infinix Note 7 (Forest Green, 64 GB)</th>\n",
       "      <td>4.3</td>\n",
       "      <td>4</td>\n",
       "      <td>64</td>\n",
       "      <td>48</td>\n",
       "      <td>16</td>\n",
       "      <td>5000</td>\n",
       "      <td>14999</td>\n",
       "    </tr>\n",
       "    <tr>\n",
       "      <th>Infinix Note 7 (Bolivia Blue, 64 GB)</th>\n",
       "      <td>4.3</td>\n",
       "      <td>4</td>\n",
       "      <td>64</td>\n",
       "      <td>48</td>\n",
       "      <td>16</td>\n",
       "      <td>5000</td>\n",
       "      <td>14999</td>\n",
       "    </tr>\n",
       "    <tr>\n",
       "      <th>Infinix Note 7 (Aether Black, 64 GB)</th>\n",
       "      <td>4.3</td>\n",
       "      <td>4</td>\n",
       "      <td>64</td>\n",
       "      <td>48</td>\n",
       "      <td>16</td>\n",
       "      <td>5000</td>\n",
       "      <td>14999</td>\n",
       "    </tr>\n",
       "    <tr>\n",
       "      <th>Infinix Zero 8i (Silver Diamond, 128 GB)</th>\n",
       "      <td>4.2</td>\n",
       "      <td>8</td>\n",
       "      <td>128</td>\n",
       "      <td>48</td>\n",
       "      <td>16</td>\n",
       "      <td>4500</td>\n",
       "      <td>18999</td>\n",
       "    </tr>\n",
       "    <tr>\n",
       "      <th>Infinix S5 (Quetzal Cyan, 64 GB)</th>\n",
       "      <td>4.3</td>\n",
       "      <td>4</td>\n",
       "      <td>64</td>\n",
       "      <td>16</td>\n",
       "      <td>32</td>\n",
       "      <td>4000</td>\n",
       "      <td>10999</td>\n",
       "    </tr>\n",
       "  </tbody>\n",
       "</table>\n",
       "<p>1186 rows × 7 columns</p>\n",
       "</div>"
      ],
      "text/plain": [
       "                                          Rating ?/5  GB of RAM  \\\n",
       "Phone Name                                                        \n",
       "POCO C50 (Royal Blue, 32 GB)                     4.2          2   \n",
       "POCO M4 5G (Cool Blue, 64 GB)                    4.2          4   \n",
       "POCO C51 (Royal Blue, 64 GB)                     4.3          4   \n",
       "POCO C55 (Cool Blue, 64 GB)                      4.2          4   \n",
       "POCO C51 (Power Black, 64 GB)                    4.3          4   \n",
       "...                                              ...        ...   \n",
       "Infinix Note 7 (Forest Green, 64 GB)             4.3          4   \n",
       "Infinix Note 7 (Bolivia Blue, 64 GB)             4.3          4   \n",
       "Infinix Note 7 (Aether Black, 64 GB)             4.3          4   \n",
       "Infinix Zero 8i (Silver Diamond, 128 GB)         4.2          8   \n",
       "Infinix S5 (Quetzal Cyan, 64 GB)                 4.3          4   \n",
       "\n",
       "                                          GB in ROM/Storage  \\\n",
       "Phone Name                                                    \n",
       "POCO C50 (Royal Blue, 32 GB)                             32   \n",
       "POCO M4 5G (Cool Blue, 64 GB)                            64   \n",
       "POCO C51 (Royal Blue, 64 GB)                             64   \n",
       "POCO C55 (Cool Blue, 64 GB)                              64   \n",
       "POCO C51 (Power Black, 64 GB)                            64   \n",
       "...                                                     ...   \n",
       "Infinix Note 7 (Forest Green, 64 GB)                     64   \n",
       "Infinix Note 7 (Bolivia Blue, 64 GB)                     64   \n",
       "Infinix Note 7 (Aether Black, 64 GB)                     64   \n",
       "Infinix Zero 8i (Silver Diamond, 128 GB)                128   \n",
       "Infinix S5 (Quetzal Cyan, 64 GB)                         64   \n",
       "\n",
       "                                          Back/Rare Camera MP  \\\n",
       "Phone Name                                                      \n",
       "POCO C50 (Royal Blue, 32 GB)                                8   \n",
       "POCO M4 5G (Cool Blue, 64 GB)                              50   \n",
       "POCO C51 (Royal Blue, 64 GB)                                8   \n",
       "POCO C55 (Cool Blue, 64 GB)                                50   \n",
       "POCO C51 (Power Black, 64 GB)                               8   \n",
       "...                                                       ...   \n",
       "Infinix Note 7 (Forest Green, 64 GB)                       48   \n",
       "Infinix Note 7 (Bolivia Blue, 64 GB)                       48   \n",
       "Infinix Note 7 (Aether Black, 64 GB)                       48   \n",
       "Infinix Zero 8i (Silver Diamond, 128 GB)                   48   \n",
       "Infinix S5 (Quetzal Cyan, 64 GB)                           16   \n",
       "\n",
       "                                          Front Camera MP  Battery mAh  \\\n",
       "Phone Name                                                               \n",
       "POCO C50 (Royal Blue, 32 GB)                            5         5000   \n",
       "POCO M4 5G (Cool Blue, 64 GB)                           8         5000   \n",
       "POCO C51 (Royal Blue, 64 GB)                            5         5000   \n",
       "POCO C55 (Cool Blue, 64 GB)                             5         5000   \n",
       "POCO C51 (Power Black, 64 GB)                           5         5000   \n",
       "...                                                   ...          ...   \n",
       "Infinix Note 7 (Forest Green, 64 GB)                   16         5000   \n",
       "Infinix Note 7 (Bolivia Blue, 64 GB)                   16         5000   \n",
       "Infinix Note 7 (Aether Black, 64 GB)                   16         5000   \n",
       "Infinix Zero 8i (Silver Diamond, 128 GB)               16         4500   \n",
       "Infinix S5 (Quetzal Cyan, 64 GB)                       32         4000   \n",
       "\n",
       "                                          Price in INR  \n",
       "Phone Name                                              \n",
       "POCO C50 (Royal Blue, 32 GB)                      5649  \n",
       "POCO M4 5G (Cool Blue, 64 GB)                    11999  \n",
       "POCO C51 (Royal Blue, 64 GB)                      6999  \n",
       "POCO C55 (Cool Blue, 64 GB)                       7749  \n",
       "POCO C51 (Power Black, 64 GB)                     6999  \n",
       "...                                                ...  \n",
       "Infinix Note 7 (Forest Green, 64 GB)             14999  \n",
       "Infinix Note 7 (Bolivia Blue, 64 GB)             14999  \n",
       "Infinix Note 7 (Aether Black, 64 GB)             14999  \n",
       "Infinix Zero 8i (Silver Diamond, 128 GB)         18999  \n",
       "Infinix S5 (Quetzal Cyan, 64 GB)                 10999  \n",
       "\n",
       "[1186 rows x 7 columns]"
      ]
     },
     "execution_count": 57,
     "metadata": {},
     "output_type": "execute_result"
    }
   ],
   "source": [
    "df"
   ]
  },
  {
   "cell_type": "markdown",
   "id": "b65e2dc1",
   "metadata": {
    "papermill": {
     "duration": 0.05061,
     "end_time": "2023-08-12T01:58:41.226679",
     "exception": false,
     "start_time": "2023-08-12T01:58:41.176069",
     "status": "completed"
    },
    "tags": []
   },
   "source": [
    "## Visualization"
   ]
  },
  {
   "cell_type": "code",
   "execution_count": 58,
   "id": "dd567f2a",
   "metadata": {},
   "outputs": [
    {
     "data": {
      "text/plain": [
       "<Axes: >"
      ]
     },
     "execution_count": 58,
     "metadata": {},
     "output_type": "execute_result"
    },
    {
     "data": {
      "image/png": "[encoded data removed]",
      "text/plain": [
       "<Figure size 640x480 with 2 Axes>"
      ]
     },
     "metadata": {},
     "output_type": "display_data"
    }
   ],
   "source": [
    "sns.heatmap(df.corr())"
   ]
  },
  {
   "cell_type": "code",
   "execution_count": 59,
   "id": "40f3ec9e",
   "metadata": {},
   "outputs": [
    {
     "name": "stderr",
     "output_type": "stream",
     "text": [
      "C:\\Users\\ASUS\\Desktop\\projects\\TFOD\\TFODCourse\\tfod\\Lib\\site-packages\\seaborn\\axisgrid.py:118: UserWarning: The figure layout has changed to tight\n",
      "  self._figure.tight_layout(*args, **kwargs)\n"
     ]
    },
    {
     "data": {
      "text/plain": [
       "<seaborn.axisgrid.PairGrid at 0x299c4772710>"
      ]
     },
     "execution_count": 59,
     "metadata": {},
     "output_type": "execute_result"
    },
    {
     "data": {
      "image/png": "[encoded data removed]",
      "text/plain": [
       "<Figure size 1750x1750 with 56 Axes>"
      ]
     },
     "metadata": {},
     "output_type": "display_data"
    }
   ],
   "source": [
    "sns.pairplot(df)"
   ]
  },
  {
   "cell_type": "code",
   "execution_count": 60,
   "id": "debd08f6",
   "metadata": {},
   "outputs": [
    {
     "name": "stdout",
     "output_type": "stream",
     "text": [
      "<class 'pandas.core.frame.DataFrame'>\n",
      "Index: 1186 entries, POCO C50 (Royal Blue, 32 GB) to Infinix S5 (Quetzal Cyan, 64 GB)\n",
      "Data columns (total 7 columns):\n",
      " #   Column               Non-Null Count  Dtype  \n",
      "---  ------               --------------  -----  \n",
      " 0   Rating ?/5           1186 non-null   float64\n",
      " 1   GB of RAM            1186 non-null   int32  \n",
      " 2   GB in ROM/Storage    1186 non-null   int32  \n",
      " 3   Back/Rare Camera MP  1186 non-null   int32  \n",
      " 4   Front Camera MP      1186 non-null   int32  \n",
      " 5   Battery mAh          1186 non-null   int32  \n",
      " 6   Price in INR         1186 non-null   int32  \n",
      "dtypes: float64(1), int32(6)\n",
      "memory usage: 78.6+ KB\n"
     ]
    }
   ],
   "source": [
    "df.info()"
   ]
  },
  {
   "cell_type": "code",
   "execution_count": 61,
   "id": "da72b4c3",
   "metadata": {
    "execution": {
     "iopub.execute_input": "2023-08-12T01:58:41.330548Z",
     "iopub.status.busy": "2023-08-12T01:58:41.329853Z",
     "iopub.status.idle": "2023-08-12T01:58:41.664177Z",
     "shell.execute_reply": "2023-08-12T01:58:41.662956Z"
    },
    "papermill": {
     "duration": 0.389661,
     "end_time": "2023-08-12T01:58:41.666847",
     "exception": false,
     "start_time": "2023-08-12T01:58:41.277186",
     "status": "completed"
    },
    "tags": []
   },
   "outputs": [
    {
     "data": {
      "text/plain": [
       "<Axes: xlabel='Price in INR', ylabel='Rating ?/5'>"
      ]
     },
     "execution_count": 61,
     "metadata": {},
     "output_type": "execute_result"
    },
    {
     "data": {
      "image/png": "[encoded data removed]",
      "text/plain": [
       "<Figure size 640x480 with 1 Axes>"
      ]
     },
     "metadata": {},
     "output_type": "display_data"
    }
   ],
   "source": [
    "sns.scatterplot(data=df, x=\"Price in INR\", y=\"Rating ?/5\")"
   ]
  },
  {
   "cell_type": "code",
   "execution_count": 62,
   "id": "b1815934",
   "metadata": {
    "execution": {
     "iopub.execute_input": "2023-08-12T01:58:41.986869Z",
     "iopub.status.busy": "2023-08-12T01:58:41.986040Z",
     "iopub.status.idle": "2023-08-12T01:58:41.993280Z",
     "shell.execute_reply": "2023-08-12T01:58:41.992404Z"
    },
    "papermill": {
     "duration": 0.061772,
     "end_time": "2023-08-12T01:58:41.995582",
     "exception": false,
     "start_time": "2023-08-12T01:58:41.933810",
     "status": "completed"
    },
    "tags": []
   },
   "outputs": [],
   "source": [
    "df = df.drop(df[df[\"Price in INR\"]>100000].index, axis = 0)"
   ]
  },
  {
   "cell_type": "code",
   "execution_count": 63,
   "id": "b95503b0",
   "metadata": {
    "execution": {
     "iopub.execute_input": "2023-08-12T01:58:42.100371Z",
     "iopub.status.busy": "2023-08-12T01:58:42.099598Z",
     "iopub.status.idle": "2023-08-12T01:58:42.427133Z",
     "shell.execute_reply": "2023-08-12T01:58:42.426247Z"
    },
    "papermill": {
     "duration": 0.382333,
     "end_time": "2023-08-12T01:58:42.429323",
     "exception": false,
     "start_time": "2023-08-12T01:58:42.046990",
     "status": "completed"
    },
    "tags": []
   },
   "outputs": [
    {
     "data": {
      "text/plain": [
       "<Axes: xlabel='Price in INR', ylabel='Rating ?/5'>"
      ]
     },
     "execution_count": 63,
     "metadata": {},
     "output_type": "execute_result"
    },
    {
     "data": {
      "image/png": "[encoded data removed]",
      "text/plain": [
       "<Figure size 640x480 with 1 Axes>"
      ]
     },
     "metadata": {},
     "output_type": "display_data"
    }
   ],
   "source": [
    "sns.scatterplot(data=df, x=\"Price in INR\", y=\"Rating ?/5\")"
   ]
  },
  {
   "cell_type": "code",
   "execution_count": 64,
   "id": "b41dbd72",
   "metadata": {
    "execution": {
     "iopub.execute_input": "2023-08-12T01:58:42.537689Z",
     "iopub.status.busy": "2023-08-12T01:58:42.536952Z",
     "iopub.status.idle": "2023-08-12T01:58:42.576740Z",
     "shell.execute_reply": "2023-08-12T01:58:42.575487Z"
    },
    "papermill": {
     "duration": 0.097637,
     "end_time": "2023-08-12T01:58:42.579602",
     "exception": false,
     "start_time": "2023-08-12T01:58:42.481965",
     "status": "completed"
    },
    "tags": []
   },
   "outputs": [
    {
     "data": {
      "text/html": [
       "<div>\n",
       "<style scoped>\n",
       "    .dataframe tbody tr th:only-of-type {\n",
       "        vertical-align: middle;\n",
       "    }\n",
       "\n",
       "    .dataframe tbody tr th {\n",
       "        vertical-align: top;\n",
       "    }\n",
       "\n",
       "    .dataframe thead th {\n",
       "        text-align: right;\n",
       "    }\n",
       "</style>\n",
       "<table border=\"1\" class=\"dataframe\">\n",
       "  <thead>\n",
       "    <tr style=\"text-align: right;\">\n",
       "      <th></th>\n",
       "      <th>Rating ?/5</th>\n",
       "      <th>GB of RAM</th>\n",
       "      <th>GB in ROM/Storage</th>\n",
       "      <th>Back/Rare Camera MP</th>\n",
       "      <th>Front Camera MP</th>\n",
       "      <th>Battery mAh</th>\n",
       "      <th>Price in INR</th>\n",
       "    </tr>\n",
       "  </thead>\n",
       "  <tbody>\n",
       "    <tr>\n",
       "      <th>count</th>\n",
       "      <td>1180.00</td>\n",
       "      <td>1180.00</td>\n",
       "      <td>1180.00</td>\n",
       "      <td>1180.00</td>\n",
       "      <td>1180.00</td>\n",
       "      <td>1180.00</td>\n",
       "      <td>1180.00</td>\n",
       "    </tr>\n",
       "    <tr>\n",
       "      <th>mean</th>\n",
       "      <td>4.27</td>\n",
       "      <td>5.65</td>\n",
       "      <td>107.01</td>\n",
       "      <td>35.54</td>\n",
       "      <td>12.46</td>\n",
       "      <td>4720.69</td>\n",
       "      <td>19651.82</td>\n",
       "    </tr>\n",
       "    <tr>\n",
       "      <th>std</th>\n",
       "      <td>0.16</td>\n",
       "      <td>2.60</td>\n",
       "      <td>66.25</td>\n",
       "      <td>20.73</td>\n",
       "      <td>11.16</td>\n",
       "      <td>698.04</td>\n",
       "      <td>13647.22</td>\n",
       "    </tr>\n",
       "    <tr>\n",
       "      <th>min</th>\n",
       "      <td>3.40</td>\n",
       "      <td>1.00</td>\n",
       "      <td>8.00</td>\n",
       "      <td>5.00</td>\n",
       "      <td>0.00</td>\n",
       "      <td>1500.00</td>\n",
       "      <td>3799.00</td>\n",
       "    </tr>\n",
       "    <tr>\n",
       "      <th>25%</th>\n",
       "      <td>4.20</td>\n",
       "      <td>4.00</td>\n",
       "      <td>64.00</td>\n",
       "      <td>13.00</td>\n",
       "      <td>5.00</td>\n",
       "      <td>4400.00</td>\n",
       "      <td>10989.00</td>\n",
       "    </tr>\n",
       "    <tr>\n",
       "      <th>50%</th>\n",
       "      <td>4.30</td>\n",
       "      <td>6.00</td>\n",
       "      <td>128.00</td>\n",
       "      <td>48.00</td>\n",
       "      <td>8.00</td>\n",
       "      <td>5000.00</td>\n",
       "      <td>15499.00</td>\n",
       "    </tr>\n",
       "    <tr>\n",
       "      <th>75%</th>\n",
       "      <td>4.40</td>\n",
       "      <td>8.00</td>\n",
       "      <td>128.00</td>\n",
       "      <td>50.00</td>\n",
       "      <td>16.00</td>\n",
       "      <td>5000.00</td>\n",
       "      <td>23999.00</td>\n",
       "    </tr>\n",
       "    <tr>\n",
       "      <th>max</th>\n",
       "      <td>4.60</td>\n",
       "      <td>16.00</td>\n",
       "      <td>256.00</td>\n",
       "      <td>64.00</td>\n",
       "      <td>60.00</td>\n",
       "      <td>7000.00</td>\n",
       "      <td>94999.00</td>\n",
       "    </tr>\n",
       "  </tbody>\n",
       "</table>\n",
       "</div>"
      ],
      "text/plain": [
       "       Rating ?/5  GB of RAM  GB in ROM/Storage  Back/Rare Camera MP  \\\n",
       "count     1180.00    1180.00            1180.00              1180.00   \n",
       "mean         4.27       5.65             107.01                35.54   \n",
       "std          0.16       2.60              66.25                20.73   \n",
       "min          3.40       1.00               8.00                 5.00   \n",
       "25%          4.20       4.00              64.00                13.00   \n",
       "50%          4.30       6.00             128.00                48.00   \n",
       "75%          4.40       8.00             128.00                50.00   \n",
       "max          4.60      16.00             256.00                64.00   \n",
       "\n",
       "       Front Camera MP  Battery mAh  Price in INR  \n",
       "count          1180.00      1180.00       1180.00  \n",
       "mean             12.46      4720.69      19651.82  \n",
       "std              11.16       698.04      13647.22  \n",
       "min               0.00      1500.00       3799.00  \n",
       "25%               5.00      4400.00      10989.00  \n",
       "50%               8.00      5000.00      15499.00  \n",
       "75%              16.00      5000.00      23999.00  \n",
       "max              60.00      7000.00      94999.00  "
      ]
     },
     "execution_count": 64,
     "metadata": {},
     "output_type": "execute_result"
    }
   ],
   "source": [
    "df.describe().round(2)"
   ]
  },
  {
   "cell_type": "code",
   "execution_count": 65,
   "id": "250cfa63",
   "metadata": {
    "execution": {
     "iopub.execute_input": "2023-08-12T01:58:42.686835Z",
     "iopub.status.busy": "2023-08-12T01:58:42.685552Z",
     "iopub.status.idle": "2023-08-12T01:58:43.145100Z",
     "shell.execute_reply": "2023-08-12T01:58:43.143910Z"
    },
    "papermill": {
     "duration": 0.516204,
     "end_time": "2023-08-12T01:58:43.147800",
     "exception": false,
     "start_time": "2023-08-12T01:58:42.631596",
     "status": "completed"
    },
    "tags": []
   },
   "outputs": [
    {
     "name": "stderr",
     "output_type": "stream",
     "text": [
      "C:\\Users\\ASUS\\Desktop\\projects\\TFOD\\TFODCourse\\tfod\\Lib\\site-packages\\seaborn\\axisgrid.py:118: UserWarning: The figure layout has changed to tight\n",
      "  self._figure.tight_layout(*args, **kwargs)\n"
     ]
    },
    {
     "data": {
      "text/plain": [
       "<seaborn.axisgrid.FacetGrid at 0x299caa22710>"
      ]
     },
     "execution_count": 65,
     "metadata": {},
     "output_type": "execute_result"
    },
    {
     "data": {
      "image/png": "[encoded data removed]",
      "text/plain": [
       "<Figure size 500x500 with 1 Axes>"
      ]
     },
     "metadata": {},
     "output_type": "display_data"
    }
   ],
   "source": [
    "sns.displot(data=df, x=\"Price in INR\", bins=20)"
   ]
  },
  {
   "cell_type": "code",
   "execution_count": 66,
   "id": "8c7843f5",
   "metadata": {
    "execution": {
     "iopub.execute_input": "2023-08-12T01:58:43.254881Z",
     "iopub.status.busy": "2023-08-12T01:58:43.254437Z",
     "iopub.status.idle": "2023-08-12T01:58:43.596031Z",
     "shell.execute_reply": "2023-08-12T01:58:43.594749Z"
    },
    "papermill": {
     "duration": 0.398559,
     "end_time": "2023-08-12T01:58:43.598827",
     "exception": false,
     "start_time": "2023-08-12T01:58:43.200268",
     "status": "completed"
    },
    "tags": []
   },
   "outputs": [
    {
     "data": {
      "text/plain": [
       "<Axes: xlabel='Rating ?/5', ylabel='count'>"
      ]
     },
     "execution_count": 66,
     "metadata": {},
     "output_type": "execute_result"
    },
    {
     "data": {
      "image/png": "[encoded data removed]",
      "text/plain": [
       "<Figure size 640x480 with 1 Axes>"
      ]
     },
     "metadata": {},
     "output_type": "display_data"
    }
   ],
   "source": [
    "sns.countplot(data=df, x=\"Rating ?/5\")"
   ]
  },
  {
   "cell_type": "code",
   "execution_count": 67,
   "id": "556b2dc0",
   "metadata": {
    "execution": {
     "iopub.execute_input": "2023-08-12T01:58:43.707769Z",
     "iopub.status.busy": "2023-08-12T01:58:43.707316Z",
     "iopub.status.idle": "2023-08-12T01:58:44.003417Z",
     "shell.execute_reply": "2023-08-12T01:58:44.001950Z"
    },
    "papermill": {
     "duration": 0.354273,
     "end_time": "2023-08-12T01:58:44.006214",
     "exception": false,
     "start_time": "2023-08-12T01:58:43.651941",
     "status": "completed"
    },
    "tags": []
   },
   "outputs": [
    {
     "data": {
      "text/plain": [
       "<Axes: xlabel='GB of RAM', ylabel='count'>"
      ]
     },
     "execution_count": 67,
     "metadata": {},
     "output_type": "execute_result"
    },
    {
     "data": {
      "image/png": "[encoded data removed]",
      "text/plain": [
       "<Figure size 640x480 with 1 Axes>"
      ]
     },
     "metadata": {},
     "output_type": "display_data"
    }
   ],
   "source": [
    "sns.countplot(data=df, x=\"GB of RAM\")"
   ]
  },
  {
   "cell_type": "code",
   "execution_count": 68,
   "id": "ee47f3aa",
   "metadata": {
    "execution": {
     "iopub.execute_input": "2023-08-12T01:58:44.118843Z",
     "iopub.status.busy": "2023-08-12T01:58:44.118431Z",
     "iopub.status.idle": "2023-08-12T01:58:44.392854Z",
     "shell.execute_reply": "2023-08-12T01:58:44.391476Z"
    },
    "papermill": {
     "duration": 0.334349,
     "end_time": "2023-08-12T01:58:44.395541",
     "exception": false,
     "start_time": "2023-08-12T01:58:44.061192",
     "status": "completed"
    },
    "tags": []
   },
   "outputs": [
    {
     "data": {
      "text/plain": [
       "<Axes: xlabel='GB in ROM/Storage', ylabel='count'>"
      ]
     },
     "execution_count": 68,
     "metadata": {},
     "output_type": "execute_result"
    },
    {
     "data": {
      "image/png": "[encoded data removed]",
      "text/plain": [
       "<Figure size 640x480 with 1 Axes>"
      ]
     },
     "metadata": {},
     "output_type": "display_data"
    }
   ],
   "source": [
    "sns.countplot(data=df, x=\"GB in ROM/Storage\")"
   ]
  },
  {
   "cell_type": "code",
   "execution_count": 69,
   "id": "ac0181c1",
   "metadata": {
    "execution": {
     "iopub.execute_input": "2023-08-12T01:58:44.507277Z",
     "iopub.status.busy": "2023-08-12T01:58:44.506848Z",
     "iopub.status.idle": "2023-08-12T01:58:44.998113Z",
     "shell.execute_reply": "2023-08-12T01:58:44.996816Z"
    },
    "papermill": {
     "duration": 0.55028,
     "end_time": "2023-08-12T01:58:45.000790",
     "exception": false,
     "start_time": "2023-08-12T01:58:44.450510",
     "status": "completed"
    },
    "tags": []
   },
   "outputs": [
    {
     "data": {
      "text/plain": [
       "<Axes: xlabel='Back/Rare Camera MP', ylabel='count'>"
      ]
     },
     "execution_count": 69,
     "metadata": {},
     "output_type": "execute_result"
    },
    {
     "data": {
      "image/png": "[encoded data removed]",
      "text/plain": [
       "<Figure size 640x480 with 1 Axes>"
      ]
     },
     "metadata": {},
     "output_type": "display_data"
    }
   ],
   "source": [
    "sns.countplot(data=df, x=\"Back/Rare Camera MP\")"
   ]
  },
  {
   "cell_type": "code",
   "execution_count": 70,
   "id": "c06b368c",
   "metadata": {
    "execution": {
     "iopub.execute_input": "2023-08-12T01:58:45.115374Z",
     "iopub.status.busy": "2023-08-12T01:58:45.114204Z",
     "iopub.status.idle": "2023-08-12T01:58:45.490867Z",
     "shell.execute_reply": "2023-08-12T01:58:45.489684Z"
    },
    "papermill": {
     "duration": 0.436305,
     "end_time": "2023-08-12T01:58:45.493356",
     "exception": false,
     "start_time": "2023-08-12T01:58:45.057051",
     "status": "completed"
    },
    "tags": []
   },
   "outputs": [
    {
     "data": {
      "text/plain": [
       "<Axes: xlabel='Front Camera MP', ylabel='count'>"
      ]
     },
     "execution_count": 70,
     "metadata": {},
     "output_type": "execute_result"
    },
    {
     "data": {
      "image/png": "[encoded data removed]",
      "text/plain": [
       "<Figure size 640x480 with 1 Axes>"
      ]
     },
     "metadata": {},
     "output_type": "display_data"
    }
   ],
   "source": [
    "sns.countplot(data=df, x=\"Front Camera MP\")"
   ]
  },
  {
   "cell_type": "code",
   "execution_count": 71,
   "id": "ea7ad5d5",
   "metadata": {
    "execution": {
     "iopub.execute_input": "2023-08-12T01:58:45.606311Z",
     "iopub.status.busy": "2023-08-12T01:58:45.605914Z",
     "iopub.status.idle": "2023-08-12T01:58:45.823454Z",
     "shell.execute_reply": "2023-08-12T01:58:45.822595Z"
    },
    "papermill": {
     "duration": 0.276694,
     "end_time": "2023-08-12T01:58:45.825774",
     "exception": false,
     "start_time": "2023-08-12T01:58:45.549080",
     "status": "completed"
    },
    "tags": []
   },
   "outputs": [
    {
     "data": {
      "text/plain": [
       "<Axes: xlabel='Battery mAh'>"
      ]
     },
     "execution_count": 71,
     "metadata": {},
     "output_type": "execute_result"
    },
    {
     "data": {
      "image/png": "[encoded data removed]",
      "text/plain": [
       "<Figure size 640x480 with 1 Axes>"
      ]
     },
     "metadata": {},
     "output_type": "display_data"
    }
   ],
   "source": [
    "sns.boxplot(data=df, x=\"Battery mAh\")"
   ]
  },
  {
   "cell_type": "markdown",
   "id": "adae74d2",
   "metadata": {
    "papermill": {
     "duration": 0.056567,
     "end_time": "2023-08-12T01:58:45.939493",
     "exception": false,
     "start_time": "2023-08-12T01:58:45.882926",
     "status": "completed"
    },
    "tags": []
   },
   "source": [
    "## Linear Regression"
   ]
  },
  {
   "cell_type": "markdown",
   "id": "18ca7586",
   "metadata": {
    "papermill": {
     "duration": 0.057557,
     "end_time": "2023-08-12T01:58:46.054397",
     "exception": false,
     "start_time": "2023-08-12T01:58:45.996840",
     "status": "completed"
    },
    "tags": []
   },
   "source": [
    "Im gonna predict price of phone base of all available features"
   ]
  },
  {
   "cell_type": "markdown",
   "id": "2687f87f",
   "metadata": {
    "papermill": {
     "duration": 0.057642,
     "end_time": "2023-08-12T01:58:46.168722",
     "exception": false,
     "start_time": "2023-08-12T01:58:46.111080",
     "status": "completed"
    },
    "tags": []
   },
   "source": [
    "### Split and standarize data"
   ]
  },
  {
   "cell_type": "code",
   "execution_count": 72,
   "id": "d214d48a",
   "metadata": {
    "execution": {
     "iopub.execute_input": "2023-08-12T01:58:46.283809Z",
     "iopub.status.busy": "2023-08-12T01:58:46.283122Z",
     "iopub.status.idle": "2023-08-12T01:58:46.288637Z",
     "shell.execute_reply": "2023-08-12T01:58:46.287810Z"
    },
    "papermill": {
     "duration": 0.064689,
     "end_time": "2023-08-12T01:58:46.290766",
     "exception": false,
     "start_time": "2023-08-12T01:58:46.226077",
     "status": "completed"
    },
    "tags": []
   },
   "outputs": [],
   "source": [
    "X = df.drop(\"Price in INR\", axis=1)\n",
    "y = df[\"Price in INR\"]"
   ]
  },
  {
   "cell_type": "code",
   "execution_count": 73,
   "id": "75e01ca6",
   "metadata": {
    "execution": {
     "iopub.execute_input": "2023-08-12T01:58:46.414625Z",
     "iopub.status.busy": "2023-08-12T01:58:46.413934Z",
     "iopub.status.idle": "2023-08-12T01:58:46.703069Z",
     "shell.execute_reply": "2023-08-12T01:58:46.701795Z"
    },
    "papermill": {
     "duration": 0.359632,
     "end_time": "2023-08-12T01:58:46.706073",
     "exception": false,
     "start_time": "2023-08-12T01:58:46.346441",
     "status": "completed"
    },
    "tags": []
   },
   "outputs": [],
   "source": [
    "from sklearn.model_selection import train_test_split"
   ]
  },
  {
   "cell_type": "code",
   "execution_count": 74,
   "id": "8cf2f566",
   "metadata": {
    "execution": {
     "iopub.execute_input": "2023-08-12T01:58:46.822435Z",
     "iopub.status.busy": "2023-08-12T01:58:46.821578Z",
     "iopub.status.idle": "2023-08-12T01:58:46.828617Z",
     "shell.execute_reply": "2023-08-12T01:58:46.827669Z"
    },
    "papermill": {
     "duration": 0.068228,
     "end_time": "2023-08-12T01:58:46.830920",
     "exception": false,
     "start_time": "2023-08-12T01:58:46.762692",
     "status": "completed"
    },
    "tags": []
   },
   "outputs": [],
   "source": [
    "X_train, X_test, y_train, y_test = train_test_split(X, y, test_size=0.2, random_state=8)"
   ]
  },
  {
   "cell_type": "code",
   "execution_count": 75,
   "id": "6aabfa44",
   "metadata": {
    "execution": {
     "iopub.execute_input": "2023-08-12T01:58:46.946036Z",
     "iopub.status.busy": "2023-08-12T01:58:46.944758Z",
     "iopub.status.idle": "2023-08-12T01:58:46.949931Z",
     "shell.execute_reply": "2023-08-12T01:58:46.948944Z"
    },
    "papermill": {
     "duration": 0.065278,
     "end_time": "2023-08-12T01:58:46.952346",
     "exception": false,
     "start_time": "2023-08-12T01:58:46.887068",
     "status": "completed"
    },
    "tags": []
   },
   "outputs": [],
   "source": [
    "from sklearn.preprocessing import StandardScaler"
   ]
  },
  {
   "cell_type": "code",
   "execution_count": 76,
   "id": "6646ee3a",
   "metadata": {
    "execution": {
     "iopub.execute_input": "2023-08-12T01:58:47.065302Z",
     "iopub.status.busy": "2023-08-12T01:58:47.064857Z",
     "iopub.status.idle": "2023-08-12T01:58:47.070123Z",
     "shell.execute_reply": "2023-08-12T01:58:47.068680Z"
    },
    "papermill": {
     "duration": 0.064572,
     "end_time": "2023-08-12T01:58:47.072395",
     "exception": false,
     "start_time": "2023-08-12T01:58:47.007823",
     "status": "completed"
    },
    "tags": []
   },
   "outputs": [],
   "source": [
    "# it will be use for almost every method\n",
    "scaler = StandardScaler()"
   ]
  },
  {
   "cell_type": "code",
   "execution_count": 77,
   "id": "bc7b618b",
   "metadata": {
    "execution": {
     "iopub.execute_input": "2023-08-12T01:58:47.186029Z",
     "iopub.status.busy": "2023-08-12T01:58:47.185506Z",
     "iopub.status.idle": "2023-08-12T01:58:47.202275Z",
     "shell.execute_reply": "2023-08-12T01:58:47.201107Z"
    },
    "papermill": {
     "duration": 0.077423,
     "end_time": "2023-08-12T01:58:47.205351",
     "exception": false,
     "start_time": "2023-08-12T01:58:47.127928",
     "status": "completed"
    },
    "tags": []
   },
   "outputs": [
    {
     "data": {
      "text/html": [
       "<style>#sk-container-id-1 {color: black;}#sk-container-id-1 pre{padding: 0;}#sk-container-id-1 div.sk-toggleable {background-color: white;}#sk-container-id-1 label.sk-toggleable__label {cursor: pointer;display: block;width: 100%;margin-bottom: 0;padding: 0.3em;box-sizing: border-box;text-align: center;}#sk-container-id-1 label.sk-toggleable__label-arrow:before {content: \"▸\";float: left;margin-right: 0.25em;color: #696969;}#sk-container-id-1 label.sk-toggleable__label-arrow:hover:before {color: black;}#sk-container-id-1 div.sk-estimator:hover label.sk-toggleable__label-arrow:before {color: black;}#sk-container-id-1 div.sk-toggleable__content {max-height: 0;max-width: 0;overflow: hidden;text-align: left;background-color: #f0f8ff;}#sk-container-id-1 div.sk-toggleable__content pre {margin: 0.2em;color: black;border-radius: 0.25em;background-color: #f0f8ff;}#sk-container-id-1 input.sk-toggleable__control:checked~div.sk-toggleable__content {max-height: 200px;max-width: 100%;overflow: auto;}#sk-container-id-1 input.sk-toggleable__control:checked~label.sk-toggleable__label-arrow:before {content: \"▾\";}#sk-container-id-1 div.sk-estimator input.sk-toggleable__control:checked~label.sk-toggleable__label {background-color: #d4ebff;}#sk-container-id-1 div.sk-label input.sk-toggleable__control:checked~label.sk-toggleable__label {background-color: #d4ebff;}#sk-container-id-1 input.sk-hidden--visually {border: 0;clip: rect(1px 1px 1px 1px);clip: rect(1px, 1px, 1px, 1px);height: 1px;margin: -1px;overflow: hidden;padding: 0;position: absolute;width: 1px;}#sk-container-id-1 div.sk-estimator {font-family: monospace;background-color: #f0f8ff;border: 1px dotted black;border-radius: 0.25em;box-sizing: border-box;margin-bottom: 0.5em;}#sk-container-id-1 div.sk-estimator:hover {background-color: #d4ebff;}#sk-container-id-1 div.sk-parallel-item::after {content: \"\";width: 100%;border-bottom: 1px solid gray;flex-grow: 1;}#sk-container-id-1 div.sk-label:hover label.sk-toggleable__label {background-color: #d4ebff;}#sk-container-id-1 div.sk-serial::before {content: \"\";position: absolute;border-left: 1px solid gray;box-sizing: border-box;top: 0;bottom: 0;left: 50%;z-index: 0;}#sk-container-id-1 div.sk-serial {display: flex;flex-direction: column;align-items: center;background-color: white;padding-right: 0.2em;padding-left: 0.2em;position: relative;}#sk-container-id-1 div.sk-item {position: relative;z-index: 1;}#sk-container-id-1 div.sk-parallel {display: flex;align-items: stretch;justify-content: center;background-color: white;position: relative;}#sk-container-id-1 div.sk-item::before, #sk-container-id-1 div.sk-parallel-item::before {content: \"\";position: absolute;border-left: 1px solid gray;box-sizing: border-box;top: 0;bottom: 0;left: 50%;z-index: -1;}#sk-container-id-1 div.sk-parallel-item {display: flex;flex-direction: column;z-index: 1;position: relative;background-color: white;}#sk-container-id-1 div.sk-parallel-item:first-child::after {align-self: flex-end;width: 50%;}#sk-container-id-1 div.sk-parallel-item:last-child::after {align-self: flex-start;width: 50%;}#sk-container-id-1 div.sk-parallel-item:only-child::after {width: 0;}#sk-container-id-1 div.sk-dashed-wrapped {border: 1px dashed gray;margin: 0 0.4em 0.5em 0.4em;box-sizing: border-box;padding-bottom: 0.4em;background-color: white;}#sk-container-id-1 div.sk-label label {font-family: monospace;font-weight: bold;display: inline-block;line-height: 1.2em;}#sk-container-id-1 div.sk-label-container {text-align: center;}#sk-container-id-1 div.sk-container {/* jupyter's `normalize.less` sets `[hidden] { display: none; }` but bootstrap.min.css set `[hidden] { display: none !important; }` so we also need the `!important` here to be able to override the default hidden behavior on the sphinx rendered scikit-learn.org. See: https://github.com/scikit-learn/scikit-learn/issues/21755 */display: inline-block !important;position: relative;}#sk-container-id-1 div.sk-text-repr-fallback {display: none;}</style><div id=\"sk-container-id-1\" class=\"sk-top-container\"><div class=\"sk-text-repr-fallback\"><pre>StandardScaler()</pre><b>In a Jupyter environment, please rerun this cell to show the HTML representation or trust the notebook. <br />On GitHub, the HTML representation is unable to render, please try loading this page with nbviewer.org.</b></div><div class=\"sk-container\" hidden><div class=\"sk-item\"><div class=\"sk-estimator sk-toggleable\"><input class=\"sk-toggleable__control sk-hidden--visually\" id=\"sk-estimator-id-1\" type=\"checkbox\" checked><label for=\"sk-estimator-id-1\" class=\"sk-toggleable__label sk-toggleable__label-arrow\">StandardScaler</label><div class=\"sk-toggleable__content\"><pre>StandardScaler()</pre></div></div></div></div></div>"
      ],
      "text/plain": [
       "StandardScaler()"
      ]
     },
     "execution_count": 77,
     "metadata": {},
     "output_type": "execute_result"
    }
   ],
   "source": [
    "scaler.fit(X_train)"
   ]
  },
  {
   "cell_type": "code",
   "execution_count": 78,
   "id": "fc3597fd",
   "metadata": {
    "execution": {
     "iopub.execute_input": "2023-08-12T01:58:47.320954Z",
     "iopub.status.busy": "2023-08-12T01:58:47.320106Z",
     "iopub.status.idle": "2023-08-12T01:58:47.329771Z",
     "shell.execute_reply": "2023-08-12T01:58:47.328839Z"
    },
    "papermill": {
     "duration": 0.070156,
     "end_time": "2023-08-12T01:58:47.332294",
     "exception": false,
     "start_time": "2023-08-12T01:58:47.262138",
     "status": "completed"
    },
    "tags": []
   },
   "outputs": [],
   "source": [
    "X_train = scaler.transform(X_train)\n",
    "X_test = scaler.transform(X_test)"
   ]
  },
  {
   "cell_type": "markdown",
   "id": "105acbc1",
   "metadata": {
    "papermill": {
     "duration": 0.055798,
     "end_time": "2023-08-12T01:58:47.445458",
     "exception": false,
     "start_time": "2023-08-12T01:58:47.389660",
     "status": "completed"
    },
    "tags": []
   },
   "source": [
    "### Simple Linear Regression"
   ]
  },
  {
   "cell_type": "code",
   "execution_count": 79,
   "id": "610a02ac",
   "metadata": {
    "execution": {
     "iopub.execute_input": "2023-08-12T01:58:47.576571Z",
     "iopub.status.busy": "2023-08-12T01:58:47.576163Z",
     "iopub.status.idle": "2023-08-12T01:58:47.685877Z",
     "shell.execute_reply": "2023-08-12T01:58:47.684699Z"
    },
    "papermill": {
     "duration": 0.170442,
     "end_time": "2023-08-12T01:58:47.688709",
     "exception": false,
     "start_time": "2023-08-12T01:58:47.518267",
     "status": "completed"
    },
    "tags": []
   },
   "outputs": [],
   "source": [
    "from sklearn.linear_model import LinearRegression"
   ]
  },
  {
   "cell_type": "code",
   "execution_count": 80,
   "id": "fdf30dda",
   "metadata": {
    "execution": {
     "iopub.execute_input": "2023-08-12T01:58:47.803943Z",
     "iopub.status.busy": "2023-08-12T01:58:47.803501Z",
     "iopub.status.idle": "2023-08-12T01:58:47.808557Z",
     "shell.execute_reply": "2023-08-12T01:58:47.807453Z"
    },
    "papermill": {
     "duration": 0.06527,
     "end_time": "2023-08-12T01:58:47.811063",
     "exception": false,
     "start_time": "2023-08-12T01:58:47.745793",
     "status": "completed"
    },
    "tags": []
   },
   "outputs": [],
   "source": [
    "model = LinearRegression()"
   ]
  },
  {
   "cell_type": "code",
   "execution_count": 81,
   "id": "6919ff01",
   "metadata": {
    "execution": {
     "iopub.execute_input": "2023-08-12T01:58:47.924940Z",
     "iopub.status.busy": "2023-08-12T01:58:47.924272Z",
     "iopub.status.idle": "2023-08-12T01:58:47.953809Z",
     "shell.execute_reply": "2023-08-12T01:58:47.952513Z"
    },
    "papermill": {
     "duration": 0.088924,
     "end_time": "2023-08-12T01:58:47.956196",
     "exception": false,
     "start_time": "2023-08-12T01:58:47.867272",
     "status": "completed"
    },
    "tags": []
   },
   "outputs": [
    {
     "data": {
      "text/html": [
       "<style>#sk-container-id-2 {color: black;}#sk-container-id-2 pre{padding: 0;}#sk-container-id-2 div.sk-toggleable {background-color: white;}#sk-container-id-2 label.sk-toggleable__label {cursor: pointer;display: block;width: 100%;margin-bottom: 0;padding: 0.3em;box-sizing: border-box;text-align: center;}#sk-container-id-2 label.sk-toggleable__label-arrow:before {content: \"▸\";float: left;margin-right: 0.25em;color: #696969;}#sk-container-id-2 label.sk-toggleable__label-arrow:hover:before {color: black;}#sk-container-id-2 div.sk-estimator:hover label.sk-toggleable__label-arrow:before {color: black;}#sk-container-id-2 div.sk-toggleable__content {max-height: 0;max-width: 0;overflow: hidden;text-align: left;background-color: #f0f8ff;}#sk-container-id-2 div.sk-toggleable__content pre {margin: 0.2em;color: black;border-radius: 0.25em;background-color: #f0f8ff;}#sk-container-id-2 input.sk-toggleable__control:checked~div.sk-toggleable__content {max-height: 200px;max-width: 100%;overflow: auto;}#sk-container-id-2 input.sk-toggleable__control:checked~label.sk-toggleable__label-arrow:before {content: \"▾\";}#sk-container-id-2 div.sk-estimator input.sk-toggleable__control:checked~label.sk-toggleable__label {background-color: #d4ebff;}#sk-container-id-2 div.sk-label input.sk-toggleable__control:checked~label.sk-toggleable__label {background-color: #d4ebff;}#sk-container-id-2 input.sk-hidden--visually {border: 0;clip: rect(1px 1px 1px 1px);clip: rect(1px, 1px, 1px, 1px);height: 1px;margin: -1px;overflow: hidden;padding: 0;position: absolute;width: 1px;}#sk-container-id-2 div.sk-estimator {font-family: monospace;background-color: #f0f8ff;border: 1px dotted black;border-radius: 0.25em;box-sizing: border-box;margin-bottom: 0.5em;}#sk-container-id-2 div.sk-estimator:hover {background-color: #d4ebff;}#sk-container-id-2 div.sk-parallel-item::after {content: \"\";width: 100%;border-bottom: 1px solid gray;flex-grow: 1;}#sk-container-id-2 div.sk-label:hover label.sk-toggleable__label {background-color: #d4ebff;}#sk-container-id-2 div.sk-serial::before {content: \"\";position: absolute;border-left: 1px solid gray;box-sizing: border-box;top: 0;bottom: 0;left: 50%;z-index: 0;}#sk-container-id-2 div.sk-serial {display: flex;flex-direction: column;align-items: center;background-color: white;padding-right: 0.2em;padding-left: 0.2em;position: relative;}#sk-container-id-2 div.sk-item {position: relative;z-index: 1;}#sk-container-id-2 div.sk-parallel {display: flex;align-items: stretch;justify-content: center;background-color: white;position: relative;}#sk-container-id-2 div.sk-item::before, #sk-container-id-2 div.sk-parallel-item::before {content: \"\";position: absolute;border-left: 1px solid gray;box-sizing: border-box;top: 0;bottom: 0;left: 50%;z-index: -1;}#sk-container-id-2 div.sk-parallel-item {display: flex;flex-direction: column;z-index: 1;position: relative;background-color: white;}#sk-container-id-2 div.sk-parallel-item:first-child::after {align-self: flex-end;width: 50%;}#sk-container-id-2 div.sk-parallel-item:last-child::after {align-self: flex-start;width: 50%;}#sk-container-id-2 div.sk-parallel-item:only-child::after {width: 0;}#sk-container-id-2 div.sk-dashed-wrapped {border: 1px dashed gray;margin: 0 0.4em 0.5em 0.4em;box-sizing: border-box;padding-bottom: 0.4em;background-color: white;}#sk-container-id-2 div.sk-label label {font-family: monospace;font-weight: bold;display: inline-block;line-height: 1.2em;}#sk-container-id-2 div.sk-label-container {text-align: center;}#sk-container-id-2 div.sk-container {/* jupyter's `normalize.less` sets `[hidden] { display: none; }` but bootstrap.min.css set `[hidden] { display: none !important; }` so we also need the `!important` here to be able to override the default hidden behavior on the sphinx rendered scikit-learn.org. See: https://github.com/scikit-learn/scikit-learn/issues/21755 */display: inline-block !important;position: relative;}#sk-container-id-2 div.sk-text-repr-fallback {display: none;}</style><div id=\"sk-container-id-2\" class=\"sk-top-container\"><div class=\"sk-text-repr-fallback\"><pre>LinearRegression()</pre><b>In a Jupyter environment, please rerun this cell to show the HTML representation or trust the notebook. <br />On GitHub, the HTML representation is unable to render, please try loading this page with nbviewer.org.</b></div><div class=\"sk-container\" hidden><div class=\"sk-item\"><div class=\"sk-estimator sk-toggleable\"><input class=\"sk-toggleable__control sk-hidden--visually\" id=\"sk-estimator-id-2\" type=\"checkbox\" checked><label for=\"sk-estimator-id-2\" class=\"sk-toggleable__label sk-toggleable__label-arrow\">LinearRegression</label><div class=\"sk-toggleable__content\"><pre>LinearRegression()</pre></div></div></div></div></div>"
      ],
      "text/plain": [
       "LinearRegression()"
      ]
     },
     "execution_count": 81,
     "metadata": {},
     "output_type": "execute_result"
    }
   ],
   "source": [
    "model.fit(X_train,  y_train)"
   ]
  },
  {
   "cell_type": "code",
   "execution_count": 82,
   "id": "fb701bc9",
   "metadata": {
    "execution": {
     "iopub.execute_input": "2023-08-12T01:58:48.072009Z",
     "iopub.status.busy": "2023-08-12T01:58:48.071569Z",
     "iopub.status.idle": "2023-08-12T01:58:48.076337Z",
     "shell.execute_reply": "2023-08-12T01:58:48.075420Z"
    },
    "papermill": {
     "duration": 0.066267,
     "end_time": "2023-08-12T01:58:48.078749",
     "exception": false,
     "start_time": "2023-08-12T01:58:48.012482",
     "status": "completed"
    },
    "tags": []
   },
   "outputs": [],
   "source": [
    "test_predictions = model.predict(X_test)"
   ]
  },
  {
   "cell_type": "code",
   "execution_count": 83,
   "id": "c94e1910",
   "metadata": {
    "execution": {
     "iopub.execute_input": "2023-08-12T01:58:48.194531Z",
     "iopub.status.busy": "2023-08-12T01:58:48.194087Z",
     "iopub.status.idle": "2023-08-12T01:58:48.199471Z",
     "shell.execute_reply": "2023-08-12T01:58:48.198204Z"
    },
    "papermill": {
     "duration": 0.066042,
     "end_time": "2023-08-12T01:58:48.202229",
     "exception": false,
     "start_time": "2023-08-12T01:58:48.136187",
     "status": "completed"
    },
    "tags": []
   },
   "outputs": [],
   "source": [
    "from sklearn.metrics import mean_squared_error, mean_absolute_error"
   ]
  },
  {
   "cell_type": "markdown",
   "id": "9c261dee",
   "metadata": {
    "papermill": {
     "duration": 0.055653,
     "end_time": "2023-08-12T01:58:48.314714",
     "exception": false,
     "start_time": "2023-08-12T01:58:48.259061",
     "status": "completed"
    },
    "tags": []
   },
   "source": [
    "Using loss function to get model accuracy"
   ]
  },
  {
   "attachments": {
    "formula-MAE-MSE-RMSE-RSquared.jpg": {
     "image/jpeg": "[encoded data removed]"
    }
   },
   "cell_type": "markdown",
   "id": "abd7ebad",
   "metadata": {
    "papermill": {
     "duration": 0.055724,
     "end_time": "2023-08-12T01:58:48.428296",
     "exception": false,
     "start_time": "2023-08-12T01:58:48.372572",
     "status": "completed"
    },
    "tags": []
   },
   "source": [
    "![formula-MAE-MSE-RMSE-RSquared.jpg](attachment:formula-MAE-MSE-RMSE-RSquared.jpg)"
   ]
  },
  {
   "cell_type": "code",
   "execution_count": 84,
   "id": "08535852",
   "metadata": {
    "execution": {
     "iopub.execute_input": "2023-08-12T01:58:48.543081Z",
     "iopub.status.busy": "2023-08-12T01:58:48.542408Z",
     "iopub.status.idle": "2023-08-12T01:58:48.549919Z",
     "shell.execute_reply": "2023-08-12T01:58:48.549068Z"
    },
    "papermill": {
     "duration": 0.067275,
     "end_time": "2023-08-12T01:58:48.552107",
     "exception": false,
     "start_time": "2023-08-12T01:58:48.484832",
     "status": "completed"
    },
    "tags": []
   },
   "outputs": [
    {
     "name": "stdout",
     "output_type": "stream",
     "text": [
      "MAE: 5565.355, MSE: 88159256.01, RMSE: 9389.316\n"
     ]
    }
   ],
   "source": [
    "MAE = mean_absolute_error(y_test, test_predictions).round(3)\n",
    "MSE = mean_squared_error(y_test, test_predictions).round(3)\n",
    "RMSE = np.sqrt(mean_squared_error(y_test, test_predictions)).round(3)\n",
    "print(f\"MAE: {MAE}, MSE: {MSE}, RMSE: {RMSE}\")"
   ]
  },
  {
   "cell_type": "code",
   "execution_count": 85,
   "id": "f73569eb",
   "metadata": {
    "execution": {
     "iopub.execute_input": "2023-08-12T01:58:48.778903Z",
     "iopub.status.busy": "2023-08-12T01:58:48.777713Z",
     "iopub.status.idle": "2023-08-12T01:58:49.151665Z",
     "shell.execute_reply": "2023-08-12T01:58:49.150531Z"
    },
    "papermill": {
     "duration": 0.434249,
     "end_time": "2023-08-12T01:58:49.154480",
     "exception": false,
     "start_time": "2023-08-12T01:58:48.720231",
     "status": "completed"
    },
    "tags": []
   },
   "outputs": [
    {
     "data": {
      "image/png": "[encoded data removed]",
      "text/plain": [
       "<Figure size 640x480 with 1 Axes>"
      ]
     },
     "metadata": {},
     "output_type": "display_data"
    }
   ],
   "source": [
    "sns.kdeplot(data=test_predictions, label=\"Price Predicted\")\n",
    "sns.kdeplot(data=y_test, label=\"Actual Price\")\n",
    "plt.legend();"
   ]
  },
  {
   "cell_type": "code",
   "execution_count": 86,
   "id": "b81f312e",
   "metadata": {},
   "outputs": [],
   "source": [
    "df = pd.DataFrame({'Actual Values': pd.Series(y_test)})\n",
    "df.reset_index(inplace=True)\n",
    "df['Predicted Values'] = pd.DataFrame(pd.Series(test_predictions))"
   ]
  },
  {
   "cell_type": "code",
   "execution_count": 87,
   "id": "c085ebf0",
   "metadata": {},
   "outputs": [],
   "source": [
    "df.set_index('Phone Name', inplace=True)"
   ]
  },
  {
   "cell_type": "code",
   "execution_count": 88,
   "id": "083846e9",
   "metadata": {},
   "outputs": [
    {
     "data": {
      "text/html": [
       "<div>\n",
       "<style scoped>\n",
       "    .dataframe tbody tr th:only-of-type {\n",
       "        vertical-align: middle;\n",
       "    }\n",
       "\n",
       "    .dataframe tbody tr th {\n",
       "        vertical-align: top;\n",
       "    }\n",
       "\n",
       "    .dataframe thead th {\n",
       "        text-align: right;\n",
       "    }\n",
       "</style>\n",
       "<table border=\"1\" class=\"dataframe\">\n",
       "  <thead>\n",
       "    <tr style=\"text-align: right;\">\n",
       "      <th></th>\n",
       "      <th>Actual Values</th>\n",
       "      <th>Predicted Values</th>\n",
       "    </tr>\n",
       "    <tr>\n",
       "      <th>Phone Name</th>\n",
       "      <th></th>\n",
       "      <th></th>\n",
       "    </tr>\n",
       "  </thead>\n",
       "  <tbody>\n",
       "    <tr>\n",
       "      <th>realme C35 (Glowing Black, 64 GB)</th>\n",
       "      <td>9699</td>\n",
       "      <td>12195.274515</td>\n",
       "    </tr>\n",
       "    <tr>\n",
       "      <th>MOTOROLA g31 (Baby Blue, 64 GB)</th>\n",
       "      <td>11999</td>\n",
       "      <td>10747.155213</td>\n",
       "    </tr>\n",
       "    <tr>\n",
       "      <th>vivo X90 Pro (Legendary Black, 256 GB)</th>\n",
       "      <td>84999</td>\n",
       "      <td>44709.216621</td>\n",
       "    </tr>\n",
       "    <tr>\n",
       "      <th>vivo Y16 (Drizzling Gold, 64 GB)</th>\n",
       "      <td>10499</td>\n",
       "      <td>9990.706823</td>\n",
       "    </tr>\n",
       "    <tr>\n",
       "      <th>vivo Y20G (Obsidian Black, 128 GB)</th>\n",
       "      <td>17499</td>\n",
       "      <td>21354.817558</td>\n",
       "    </tr>\n",
       "  </tbody>\n",
       "</table>\n",
       "</div>"
      ],
      "text/plain": [
       "                                        Actual Values  Predicted Values\n",
       "Phone Name                                                             \n",
       "realme C35 (Glowing Black, 64 GB)                9699      12195.274515\n",
       "MOTOROLA g31 (Baby Blue, 64 GB)                 11999      10747.155213\n",
       "vivo X90 Pro (Legendary Black, 256 GB)          84999      44709.216621\n",
       "vivo Y16 (Drizzling Gold, 64 GB)                10499       9990.706823\n",
       "vivo Y20G (Obsidian Black, 128 GB)              17499      21354.817558"
      ]
     },
     "execution_count": 88,
     "metadata": {},
     "output_type": "execute_result"
    }
   ],
   "source": [
    "df.sample(5)"
   ]
  }
 ],
 "metadata": {
  "kernelspec": {
   "display_name": "tfod",
   "language": "python",
   "name": "tfod"
  },
  "language_info": {
   "codemirror_mode": {
    "name": "ipython",
    "version": 3
   },
   "file_extension": ".py",
   "mimetype": "text/x-python",
   "name": "python",
   "nbconvert_exporter": "python",
   "pygments_lexer": "ipython3",
   "version": "3.11.0"
  },
  "papermill": {
   "default_parameters": {},
   "duration": 41.542386,
   "end_time": "2023-08-12T01:58:59.154447",
   "environment_variables": {},
   "exception": null,
   "input_path": "__notebook__.ipynb",
   "output_path": "__notebook__.ipynb",
   "parameters": {},
   "start_time": "2023-08-12T01:58:17.612061",
   "version": "2.4.0"
  }
 },
 "nbformat": 4,
 "nbformat_minor": 5
}
